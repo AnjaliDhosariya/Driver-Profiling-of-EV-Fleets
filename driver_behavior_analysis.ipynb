{
 "cells": [
  {
   "cell_type": "code",
   "execution_count": 1,
   "id": "99e79784",
   "metadata": {},
   "outputs": [],
   "source": [
    "# Data Manipulation & Visualization\n",
    "import pandas as pd\n",
    "import numpy as np\n",
    "import matplotlib.pyplot as plt\n",
    "import seaborn as sns\n",
    "\n",
    "# Binary & Serialization\n",
    "import binascii\n",
    "import joblib\n",
    "\n",
    "# Preprocessing\n",
    "from sklearn.preprocessing import StandardScaler, LabelEncoder, MinMaxScaler\n",
    "\n",
    "# Dimensionality Reduction\n",
    "from sklearn.decomposition import PCA\n",
    "\n",
    "# Clustering\n",
    "from sklearn.cluster import KMeans, DBSCAN\n",
    "\n",
    "# Model Selection\n",
    "from sklearn.model_selection import train_test_split, cross_val_score\n",
    "\n",
    "# Machine Learning Models\n",
    "from sklearn.linear_model import LogisticRegression\n",
    "from sklearn.tree import DecisionTreeClassifier\n",
    "from sklearn.ensemble import RandomForestClassifier\n",
    "from sklearn.svm import SVC\n",
    "from xgboost import XGBClassifier\n",
    "\n",
    "# Evaluation Metrics\n",
    "from sklearn.metrics import (\n",
    "    classification_report,\n",
    "    accuracy_score,\n",
    "    confusion_matrix,\n",
    "    ConfusionMatrixDisplay\n",
    ")\n",
    "\n",
    "# Deep Learning (Keras / TensorFlow)\n",
    "from tensorflow.keras.models import Sequential\n",
    "from tensorflow.keras.layers import LSTM, Dense, Masking, Dropout\n",
    "from tensorflow.keras.preprocessing.sequence import pad_sequences\n",
    "from tensorflow.keras.utils import to_categorical\n",
    "\n",
    "# Plotting Settings\n",
    "%matplotlib inline\n",
    "sns.set_theme(style=\"whitegrid\")\n"
   ]
  },
  {
   "cell_type": "code",
   "execution_count": 2,
   "id": "e2e92095",
   "metadata": {},
   "outputs": [
    {
     "data": {
      "text/plain": [
       "4"
      ]
     },
     "execution_count": 2,
     "metadata": {},
     "output_type": "execute_result"
    }
   ],
   "source": [
    "import gc\n",
    "\n",
    "gc.collect()  # force garbage collection\n"
   ]
  },
  {
   "cell_type": "code",
   "execution_count": 3,
   "id": "99e79784",
   "metadata": {},
   "outputs": [
    {
     "data": {
      "text/html": [
       "<div>\n",
       "<style scoped>\n",
       "    .dataframe tbody tr th:only-of-type {\n",
       "        vertical-align: middle;\n",
       "    }\n",
       "\n",
       "    .dataframe tbody tr th {\n",
       "        vertical-align: top;\n",
       "    }\n",
       "\n",
       "    .dataframe thead th {\n",
       "        text-align: right;\n",
       "    }\n",
       "</style>\n",
       "<table border=\"1\" class=\"dataframe\">\n",
       "  <thead>\n",
       "    <tr style=\"text-align: right;\">\n",
       "      <th></th>\n",
       "      <th>tripID</th>\n",
       "      <th>deviceID</th>\n",
       "      <th>timeStamp</th>\n",
       "      <th>accData</th>\n",
       "      <th>gps_speed</th>\n",
       "      <th>battery</th>\n",
       "      <th>cTemp</th>\n",
       "      <th>dtc</th>\n",
       "      <th>eLoad</th>\n",
       "      <th>iat</th>\n",
       "      <th>imap</th>\n",
       "      <th>kpl</th>\n",
       "      <th>maf</th>\n",
       "      <th>rpm</th>\n",
       "      <th>speed</th>\n",
       "      <th>tAdv</th>\n",
       "      <th>tPos</th>\n",
       "    </tr>\n",
       "  </thead>\n",
       "  <tbody>\n",
       "    <tr>\n",
       "      <th>0</th>\n",
       "      <td>1</td>\n",
       "      <td>0.0</td>\n",
       "      <td>2017-12-22 18:43:05</td>\n",
       "      <td>10c0f8e00448fa18c80515d30000000000000000000000...</td>\n",
       "      <td>24.2612</td>\n",
       "      <td>0.0</td>\n",
       "      <td>66.0</td>\n",
       "      <td>0.0</td>\n",
       "      <td>28.6275</td>\n",
       "      <td>40.0</td>\n",
       "      <td>97.0</td>\n",
       "      <td>0.0</td>\n",
       "      <td>0.0</td>\n",
       "      <td>1010.75</td>\n",
       "      <td>23.0</td>\n",
       "      <td>0.0</td>\n",
       "      <td>0.0</td>\n",
       "    </tr>\n",
       "    <tr>\n",
       "      <th>1</th>\n",
       "      <td>1</td>\n",
       "      <td>0.0</td>\n",
       "      <td>2017-12-22 18:43:06</td>\n",
       "      <td>1138f8c804780a1ebdf718bcf919d10617c8e301b31017...</td>\n",
       "      <td>23.15</td>\n",
       "      <td>0.0</td>\n",
       "      <td>66.0</td>\n",
       "      <td>0.0</td>\n",
       "      <td>33.7255</td>\n",
       "      <td>40.0</td>\n",
       "      <td>98.0</td>\n",
       "      <td>0.0</td>\n",
       "      <td>0.0</td>\n",
       "      <td>815.5</td>\n",
       "      <td>21.0</td>\n",
       "      <td>0.0</td>\n",
       "      <td>0.0</td>\n",
       "    </tr>\n",
       "    <tr>\n",
       "      <th>2</th>\n",
       "      <td>1</td>\n",
       "      <td>0.0</td>\n",
       "      <td>2017-12-22 18:43:07</td>\n",
       "      <td>10f0f89804480612c30010c30714ce0520b7f41dbdf118...</td>\n",
       "      <td>18.7052</td>\n",
       "      <td>0.0</td>\n",
       "      <td>66.0</td>\n",
       "      <td>0.0</td>\n",
       "      <td>43.1373</td>\n",
       "      <td>40.0</td>\n",
       "      <td>98.0</td>\n",
       "      <td>0.0</td>\n",
       "      <td>0.0</td>\n",
       "      <td>862.25</td>\n",
       "      <td>17.0</td>\n",
       "      <td>0.0</td>\n",
       "      <td>0.0</td>\n",
       "    </tr>\n",
       "    <tr>\n",
       "      <th>3</th>\n",
       "      <td>1</td>\n",
       "      <td>0.0</td>\n",
       "      <td>2017-12-22 18:43:08</td>\n",
       "      <td>10d0f84804480d15bd0210c9f822c80017caf81ccd0517...</td>\n",
       "      <td>16.4828</td>\n",
       "      <td>0.0</td>\n",
       "      <td>66.0</td>\n",
       "      <td>0.0</td>\n",
       "      <td>41.5686</td>\n",
       "      <td>40.0</td>\n",
       "      <td>97.0</td>\n",
       "      <td>0.0</td>\n",
       "      <td>0.0</td>\n",
       "      <td>817.0</td>\n",
       "      <td>17.0</td>\n",
       "      <td>0.0</td>\n",
       "      <td>0.0</td>\n",
       "    </tr>\n",
       "    <tr>\n",
       "      <th>4</th>\n",
       "      <td>1</td>\n",
       "      <td>0.0</td>\n",
       "      <td>2017-12-22 18:43:09</td>\n",
       "      <td>1090f8c80480041dc9081cc50815c60511c60112c40514...</td>\n",
       "      <td>17.4088</td>\n",
       "      <td>0.0</td>\n",
       "      <td>66.0</td>\n",
       "      <td>0.0</td>\n",
       "      <td>43.1373</td>\n",
       "      <td>40.0</td>\n",
       "      <td>97.0</td>\n",
       "      <td>0.0</td>\n",
       "      <td>0.0</td>\n",
       "      <td>804.25</td>\n",
       "      <td>15.0</td>\n",
       "      <td>0.0</td>\n",
       "      <td>0.0</td>\n",
       "    </tr>\n",
       "  </tbody>\n",
       "</table>\n",
       "</div>"
      ],
      "text/plain": [
       "  tripID deviceID            timeStamp  \\\n",
       "0      1      0.0  2017-12-22 18:43:05   \n",
       "1      1      0.0  2017-12-22 18:43:06   \n",
       "2      1      0.0  2017-12-22 18:43:07   \n",
       "3      1      0.0  2017-12-22 18:43:08   \n",
       "4      1      0.0  2017-12-22 18:43:09   \n",
       "\n",
       "                                             accData gps_speed battery cTemp  \\\n",
       "0  10c0f8e00448fa18c80515d30000000000000000000000...   24.2612     0.0  66.0   \n",
       "1  1138f8c804780a1ebdf718bcf919d10617c8e301b31017...     23.15     0.0  66.0   \n",
       "2  10f0f89804480612c30010c30714ce0520b7f41dbdf118...   18.7052     0.0  66.0   \n",
       "3  10d0f84804480d15bd0210c9f822c80017caf81ccd0517...   16.4828     0.0  66.0   \n",
       "4  1090f8c80480041dc9081cc50815c60511c60112c40514...   17.4088     0.0  66.0   \n",
       "\n",
       "   dtc    eLoad   iat  imap  kpl  maf      rpm speed tAdv tPos  \n",
       "0  0.0  28.6275  40.0  97.0  0.0  0.0  1010.75  23.0  0.0  0.0  \n",
       "1  0.0  33.7255  40.0  98.0  0.0  0.0    815.5  21.0  0.0  0.0  \n",
       "2  0.0  43.1373  40.0  98.0  0.0  0.0   862.25  17.0  0.0  0.0  \n",
       "3  0.0  41.5686  40.0  97.0  0.0  0.0    817.0  17.0  0.0  0.0  \n",
       "4  0.0  43.1373  40.0  97.0  0.0  0.0   804.25  15.0  0.0  0.0  "
      ]
     },
     "execution_count": 3,
     "metadata": {},
     "output_type": "execute_result"
    }
   ],
   "source": [
    "df = pd.read_csv(\"E:/VE_project/datasets/v2.csv\", parse_dates=['timeStamp'],low_memory=False)\n",
    "df.head()\n"
   ]
  },
  {
   "cell_type": "code",
   "execution_count": 5,
   "id": "a6681955",
   "metadata": {},
   "outputs": [
    {
     "data": {
      "text/plain": [
       "(3120272, 17)"
      ]
     },
     "execution_count": 5,
     "metadata": {},
     "output_type": "execute_result"
    }
   ],
   "source": [
    "df.shape"
   ]
  },
  {
   "cell_type": "markdown",
   "id": "ddf59622",
   "metadata": {},
   "source": [
    "### Data cleaning and basic preprocessing"
   ]
  },
  {
   "cell_type": "code",
   "execution_count": 6,
   "id": "a2cfcddd",
   "metadata": {},
   "outputs": [
    {
     "name": "stdout",
     "output_type": "stream",
     "text": [
      "<class 'pandas.core.frame.DataFrame'>\n",
      "RangeIndex: 3120272 entries, 0 to 3120271\n",
      "Data columns (total 17 columns):\n",
      " #   Column     Dtype \n",
      "---  ------     ----- \n",
      " 0   tripID     object\n",
      " 1   deviceID   object\n",
      " 2   timeStamp  object\n",
      " 3   accData    object\n",
      " 4   gps_speed  object\n",
      " 5   battery    object\n",
      " 6   cTemp      object\n",
      " 7   dtc        object\n",
      " 8   eLoad      object\n",
      " 9   iat        object\n",
      " 10  imap       object\n",
      " 11  kpl        object\n",
      " 12  maf        object\n",
      " 13  rpm        object\n",
      " 14  speed      object\n",
      " 15  tAdv       object\n",
      " 16  tPos       object\n",
      "dtypes: object(17)\n",
      "memory usage: 404.7+ MB\n"
     ]
    }
   ],
   "source": [
    "df.info()"
   ]
  },
  {
   "cell_type": "code",
   "execution_count": 4,
   "id": "0037b651",
   "metadata": {},
   "outputs": [],
   "source": [
    "float_cols = ['gps_speed', 'battery', 'cTemp','dtc','eLoad','iat','imap','kpl','maf','rpm','speed','tAdv','tPos']\n",
    "int_cols = ['tripID','deviceID']  \n",
    "\n",
    "df['timeStamp'] = pd.to_datetime(df['timeStamp'], errors='coerce')\n",
    "\n",
    "# Converting float columns\n",
    "for col in float_cols:\n",
    "    df[col] = pd.to_numeric(df[col], errors='coerce')\n",
    "\n",
    "# Converting int columns\n",
    "for col in int_cols:\n",
    "    df[col] = pd.to_numeric(df[col], errors='coerce').astype('Int64')  # or 'int64' if no missing values\n"
   ]
  },
  {
   "cell_type": "code",
   "execution_count": 5,
   "id": "84d37531",
   "metadata": {},
   "outputs": [
    {
     "name": "stdout",
     "output_type": "stream",
     "text": [
      "<class 'pandas.core.frame.DataFrame'>\n",
      "RangeIndex: 3120272 entries, 0 to 3120271\n",
      "Data columns (total 17 columns):\n",
      " #   Column     Dtype         \n",
      "---  ------     -----         \n",
      " 0   tripID     Int64         \n",
      " 1   deviceID   Int64         \n",
      " 2   timeStamp  datetime64[ns]\n",
      " 3   accData    object        \n",
      " 4   gps_speed  float64       \n",
      " 5   battery    float64       \n",
      " 6   cTemp      float64       \n",
      " 7   dtc        float64       \n",
      " 8   eLoad      float64       \n",
      " 9   iat        float64       \n",
      " 10  imap       float64       \n",
      " 11  kpl        float64       \n",
      " 12  maf        float64       \n",
      " 13  rpm        float64       \n",
      " 14  speed      float64       \n",
      " 15  tAdv       float64       \n",
      " 16  tPos       float64       \n",
      "dtypes: Int64(2), datetime64[ns](1), float64(13), object(1)\n",
      "memory usage: 410.6+ MB\n"
     ]
    }
   ],
   "source": [
    "df.info()"
   ]
  },
  {
   "cell_type": "code",
   "execution_count": 6,
   "id": "e112e18c",
   "metadata": {},
   "outputs": [
    {
     "name": "stdout",
     "output_type": "stream",
     "text": [
      "Total trips: 3120272\n",
      "Total devices (drivers):15\n"
     ]
    }
   ],
   "source": [
    "print(f\"Total trips: {len(df)}\")\n",
    "print(f\"Total devices (drivers):{df['deviceID'].nunique()}\")"
   ]
  },
  {
   "cell_type": "code",
   "execution_count": null,
   "id": "07f03717",
   "metadata": {},
   "outputs": [
    {
     "name": "stdout",
     "output_type": "stream",
     "text": [
      "       column           dtype  null_count  zero_count  zero_percentage  \\\n",
      "0      tripID           Int64          32           0             0.00   \n",
      "9         iat         float64          32      645854            20.70   \n",
      "15       tAdv         float64          32     2613614            83.76   \n",
      "14      speed         float64          32     1075844            34.48   \n",
      "13        rpm         float64          32      760709            24.38   \n",
      "12        maf         float64          32     1075436            34.47   \n",
      "11        kpl         float64          32     1389300            44.53   \n",
      "10       imap         float64          32      654288            20.97   \n",
      "8       eLoad         float64          32      864741            27.71   \n",
      "1    deviceID           Int64          32      290869             9.32   \n",
      "7         dtc         float64          32     3120169           100.00   \n",
      "6       cTemp         float64          32      645864            20.70   \n",
      "5     battery         float64          32     2572287            82.44   \n",
      "4   gps_speed         float64          32      834832            26.76   \n",
      "2   timeStamp  datetime64[ns]          32           0             0.00   \n",
      "16       tPos         float64          32     2023962            64.87   \n",
      "3     accData          object           0      667327            21.39   \n",
      "\n",
      "    empty_list_or_str_count  \n",
      "0                         0  \n",
      "9                         0  \n",
      "15                        0  \n",
      "14                        0  \n",
      "13                        0  \n",
      "12                        0  \n",
      "11                        0  \n",
      "10                        0  \n",
      "8                         0  \n",
      "1                         0  \n",
      "7                         0  \n",
      "6                         0  \n",
      "5                         0  \n",
      "4                         0  \n",
      "2                         0  \n",
      "16                        0  \n",
      "3                         0  \n"
     ]
    }
   ],
   "source": [
    "summary = []\n",
    "total_rows = len(df)\n",
    "\n",
    "for col in df.columns:\n",
    "    null_count = df[col].isnull().sum()\n",
    "    zero_count = 0\n",
    "    empty_list_or_str_count = 0\n",
    "    dtype = df[col].dtype\n",
    "\n",
    "    for val in df[col]:\n",
    "        if pd.isna(val):\n",
    "            continue\n",
    "\n",
    "        # For list or array\n",
    "        if isinstance(val, (list, np.ndarray)):\n",
    "            if len(val) == 0:\n",
    "                empty_list_or_str_count += 1\n",
    "            elif all(v == 0 for v in val):\n",
    "                zero_count += 1\n",
    "\n",
    "        # For string\n",
    "        elif isinstance(val, str):\n",
    "            stripped_val = val.strip().lower()\n",
    "            if stripped_val == \"\":\n",
    "                empty_list_or_str_count += 1\n",
    "            elif all(c == '0' for c in stripped_val):  # e.g., \"000000\"\n",
    "                zero_count += 1\n",
    "            elif stripped_val.startswith(\"0x\") and all(c in '0x' for c in stripped_val):  # e.g., \"0x0000\"\n",
    "                zero_count += 1\n",
    "\n",
    "        # For numeric values\n",
    "        elif isinstance(val, (int, float, np.integer, np.floating)):\n",
    "            if val == 0:\n",
    "                zero_count += 1\n",
    "\n",
    "    non_null_count = total_rows - null_count\n",
    "    zero_pct = (zero_count / non_null_count * 100) if non_null_count > 0 else 0\n",
    "\n",
    "    summary.append({\n",
    "        'column': col,\n",
    "        'dtype': str(dtype),\n",
    "        'null_count': null_count,\n",
    "        'zero_count': zero_count,\n",
    "        'zero_percentage': round(zero_pct, 2),\n",
    "        'empty_list_or_str_count': empty_list_or_str_count\n",
    "    })\n",
    "\n",
    "# Creating and displaying the summary DataFrame\n",
    "summary_df = pd.DataFrame(summary)\n",
    "summary_df.sort_values(by='null_count', ascending=False, inplace=True)\n",
    "\n",
    "print(summary_df)\n"
   ]
  },
  {
   "cell_type": "code",
   "execution_count": 8,
   "id": "f995b817",
   "metadata": {},
   "outputs": [
    {
     "name": "stdout",
     "output_type": "stream",
     "text": [
      "Trips per device:\n",
      " deviceID\n",
      "12    773418\n",
      "10    747868\n",
      "9     458542\n",
      "0     290869\n",
      "5     271654\n",
      "7     180367\n",
      "3     147901\n",
      "16    127915\n",
      "8      43218\n",
      "2      27166\n",
      "6      21271\n",
      "1      10280\n",
      "4       9880\n",
      "11      7929\n",
      "14      1962\n",
      "Name: tripID, dtype: Int64\n"
     ]
    },
    {
     "data": {
      "image/png": "[encoded data removed]",
      "text/plain": [
       "<Figure size 600x400 with 1 Axes>"
      ]
     },
     "metadata": {},
     "output_type": "display_data"
    }
   ],
   "source": [
    "# Number of trips per driver\n",
    "trips_per_device = df.groupby('deviceID')['tripID'].count()\n",
    "trips_per_device = trips_per_device.sort_values(ascending=False)\n",
    "print(\"Trips per device:\\n\", trips_per_device)\n",
    "# Ploting number of trips per driver as a bar chart\n",
    "import matplotlib.pyplot as plt\n",
    "plt.figure(figsize=(6,4))\n",
    "plt.bar(trips_per_device.index.astype(str), trips_per_device.values,\n",
    "color='skyblue')\n",
    "plt.xlabel('Driver (deviceID)')\n",
    "plt.ylabel('Number of Trips')\n",
    "plt.title('Trips per Device')\n",
    "plt.xticks(rotation=45)\n",
    "plt.tight_layout()\n",
    "plt.show()"
   ]
  },
  {
   "cell_type": "code",
   "execution_count": 7,
   "id": "b02e4b97",
   "metadata": {},
   "outputs": [],
   "source": [
    "#removing rows with accData as \"0\"\n",
    "df = df[df['accData'] != \"0\"]\n"
   ]
  },
  {
   "cell_type": "code",
   "execution_count": 10,
   "id": "89048a47",
   "metadata": {},
   "outputs": [],
   "source": [
    "df=df.dropna()"
   ]
  },
  {
   "cell_type": "code",
   "execution_count": 11,
   "id": "f7c3280b",
   "metadata": {},
   "outputs": [
    {
     "data": {
      "text/plain": [
       "tripID       0\n",
       "deviceID     0\n",
       "timeStamp    0\n",
       "accData      0\n",
       "gps_speed    0\n",
       "battery      0\n",
       "cTemp        0\n",
       "dtc          0\n",
       "eLoad        0\n",
       "iat          0\n",
       "imap         0\n",
       "kpl          0\n",
       "maf          0\n",
       "rpm          0\n",
       "speed        0\n",
       "tAdv         0\n",
       "tPos         0\n",
       "dtype: int64"
      ]
     },
     "execution_count": 11,
     "metadata": {},
     "output_type": "execute_result"
    }
   ],
   "source": [
    "df.isnull().sum()\n"
   ]
  },
  {
   "cell_type": "code",
   "execution_count": 12,
   "id": "cd0a6a88",
   "metadata": {},
   "outputs": [
    {
     "data": {
      "text/html": [
       "<div>\n",
       "<style scoped>\n",
       "    .dataframe tbody tr th:only-of-type {\n",
       "        vertical-align: middle;\n",
       "    }\n",
       "\n",
       "    .dataframe tbody tr th {\n",
       "        vertical-align: top;\n",
       "    }\n",
       "\n",
       "    .dataframe thead th {\n",
       "        text-align: right;\n",
       "    }\n",
       "</style>\n",
       "<table border=\"1\" class=\"dataframe\">\n",
       "  <thead>\n",
       "    <tr style=\"text-align: right;\">\n",
       "      <th></th>\n",
       "      <th>tripID</th>\n",
       "      <th>deviceID</th>\n",
       "      <th>timeStamp</th>\n",
       "      <th>gps_speed</th>\n",
       "      <th>battery</th>\n",
       "      <th>cTemp</th>\n",
       "      <th>dtc</th>\n",
       "      <th>eLoad</th>\n",
       "      <th>iat</th>\n",
       "      <th>imap</th>\n",
       "      <th>kpl</th>\n",
       "      <th>maf</th>\n",
       "      <th>rpm</th>\n",
       "      <th>speed</th>\n",
       "      <th>tAdv</th>\n",
       "      <th>tPos</th>\n",
       "    </tr>\n",
       "  </thead>\n",
       "  <tbody>\n",
       "    <tr>\n",
       "      <th>count</th>\n",
       "      <td>2603283.0</td>\n",
       "      <td>2603283.0</td>\n",
       "      <td>2603283</td>\n",
       "      <td>2.603283e+06</td>\n",
       "      <td>2.603283e+06</td>\n",
       "      <td>2.603283e+06</td>\n",
       "      <td>2.603283e+06</td>\n",
       "      <td>2.603283e+06</td>\n",
       "      <td>2.603283e+06</td>\n",
       "      <td>2.603283e+06</td>\n",
       "      <td>2.603283e+06</td>\n",
       "      <td>2.603283e+06</td>\n",
       "      <td>2.603283e+06</td>\n",
       "      <td>2.603283e+06</td>\n",
       "      <td>2.603283e+06</td>\n",
       "      <td>2.603283e+06</td>\n",
       "    </tr>\n",
       "    <tr>\n",
       "      <th>mean</th>\n",
       "      <td>91.687392</td>\n",
       "      <td>8.229041</td>\n",
       "      <td>2017-12-26 03:29:00.451727616</td>\n",
       "      <td>2.358409e+01</td>\n",
       "      <td>2.881353e+00</td>\n",
       "      <td>6.196033e+01</td>\n",
       "      <td>3.470618e-03</td>\n",
       "      <td>3.078709e+01</td>\n",
       "      <td>2.697818e+01</td>\n",
       "      <td>7.051637e+01</td>\n",
       "      <td>5.432525e+00</td>\n",
       "      <td>7.690217e+00</td>\n",
       "      <td>9.891265e+02</td>\n",
       "      <td>2.233172e+01</td>\n",
       "      <td>2.247984e+00</td>\n",
       "      <td>1.477610e+01</td>\n",
       "    </tr>\n",
       "    <tr>\n",
       "      <th>min</th>\n",
       "      <td>1.0</td>\n",
       "      <td>0.0</td>\n",
       "      <td>2017-11-18 16:23:30</td>\n",
       "      <td>0.000000e+00</td>\n",
       "      <td>0.000000e+00</td>\n",
       "      <td>-4.000000e+01</td>\n",
       "      <td>0.000000e+00</td>\n",
       "      <td>0.000000e+00</td>\n",
       "      <td>-4.000000e+01</td>\n",
       "      <td>0.000000e+00</td>\n",
       "      <td>0.000000e+00</td>\n",
       "      <td>0.000000e+00</td>\n",
       "      <td>0.000000e+00</td>\n",
       "      <td>0.000000e+00</td>\n",
       "      <td>-2.500000e+01</td>\n",
       "      <td>0.000000e+00</td>\n",
       "    </tr>\n",
       "    <tr>\n",
       "      <th>25%</th>\n",
       "      <td>28.0</td>\n",
       "      <td>5.0</td>\n",
       "      <td>2017-12-08 13:16:08</td>\n",
       "      <td>0.000000e+00</td>\n",
       "      <td>0.000000e+00</td>\n",
       "      <td>4.600000e+01</td>\n",
       "      <td>0.000000e+00</td>\n",
       "      <td>0.000000e+00</td>\n",
       "      <td>2.000000e+01</td>\n",
       "      <td>1.000000e+01</td>\n",
       "      <td>0.000000e+00</td>\n",
       "      <td>0.000000e+00</td>\n",
       "      <td>7.175000e+02</td>\n",
       "      <td>0.000000e+00</td>\n",
       "      <td>0.000000e+00</td>\n",
       "      <td>0.000000e+00</td>\n",
       "    </tr>\n",
       "    <tr>\n",
       "      <th>50%</th>\n",
       "      <td>74.0</td>\n",
       "      <td>9.0</td>\n",
       "      <td>2017-12-25 18:07:33</td>\n",
       "      <td>1.666800e+01</td>\n",
       "      <td>0.000000e+00</td>\n",
       "      <td>8.000000e+01</td>\n",
       "      <td>0.000000e+00</td>\n",
       "      <td>2.705880e+01</td>\n",
       "      <td>3.100000e+01</td>\n",
       "      <td>9.600000e+01</td>\n",
       "      <td>1.985300e+00</td>\n",
       "      <td>7.080000e+00</td>\n",
       "      <td>9.990000e+02</td>\n",
       "      <td>1.500000e+01</td>\n",
       "      <td>0.000000e+00</td>\n",
       "      <td>0.000000e+00</td>\n",
       "    </tr>\n",
       "    <tr>\n",
       "      <th>75%</th>\n",
       "      <td>140.0</td>\n",
       "      <td>12.0</td>\n",
       "      <td>2018-01-12 13:24:50.500000</td>\n",
       "      <td>3.648440e+01</td>\n",
       "      <td>0.000000e+00</td>\n",
       "      <td>8.800000e+01</td>\n",
       "      <td>0.000000e+00</td>\n",
       "      <td>4.862750e+01</td>\n",
       "      <td>3.800000e+01</td>\n",
       "      <td>1.020000e+02</td>\n",
       "      <td>7.237800e+00</td>\n",
       "      <td>1.183000e+01</td>\n",
       "      <td>1.451000e+03</td>\n",
       "      <td>3.500000e+01</td>\n",
       "      <td>0.000000e+00</td>\n",
       "      <td>1.725490e+01</td>\n",
       "    </tr>\n",
       "    <tr>\n",
       "      <th>max</th>\n",
       "      <td>317.0</td>\n",
       "      <td>16.0</td>\n",
       "      <td>2018-01-31 23:18:50</td>\n",
       "      <td>3.355454e+02</td>\n",
       "      <td>1.544000e+01</td>\n",
       "      <td>1.000000e+02</td>\n",
       "      <td>1.290000e+02</td>\n",
       "      <td>9.960780e+01</td>\n",
       "      <td>6.900000e+01</td>\n",
       "      <td>2.540000e+02</td>\n",
       "      <td>1.611200e+03</td>\n",
       "      <td>1.780800e+02</td>\n",
       "      <td>5.764000e+03</td>\n",
       "      <td>1.490000e+02</td>\n",
       "      <td>5.050000e+01</td>\n",
       "      <td>9.960780e+01</td>\n",
       "    </tr>\n",
       "    <tr>\n",
       "      <th>std</th>\n",
       "      <td>74.200602</td>\n",
       "      <td>4.295098</td>\n",
       "      <td>NaN</td>\n",
       "      <td>2.590639e+01</td>\n",
       "      <td>5.593824e+00</td>\n",
       "      <td>3.380097e+01</td>\n",
       "      <td>6.667132e-01</td>\n",
       "      <td>2.721933e+01</td>\n",
       "      <td>1.562004e+01</td>\n",
       "      <td>4.934314e+01</td>\n",
       "      <td>9.680714e+00</td>\n",
       "      <td>8.847903e+00</td>\n",
       "      <td>6.883989e+02</td>\n",
       "      <td>2.531490e+01</td>\n",
       "      <td>8.001674e+00</td>\n",
       "      <td>2.682442e+01</td>\n",
       "    </tr>\n",
       "  </tbody>\n",
       "</table>\n",
       "</div>"
      ],
      "text/plain": [
       "          tripID   deviceID                      timeStamp     gps_speed  \\\n",
       "count  2603283.0  2603283.0                        2603283  2.603283e+06   \n",
       "mean   91.687392   8.229041  2017-12-26 03:29:00.451727616  2.358409e+01   \n",
       "min          1.0        0.0            2017-11-18 16:23:30  0.000000e+00   \n",
       "25%         28.0        5.0            2017-12-08 13:16:08  0.000000e+00   \n",
       "50%         74.0        9.0            2017-12-25 18:07:33  1.666800e+01   \n",
       "75%        140.0       12.0     2018-01-12 13:24:50.500000  3.648440e+01   \n",
       "max        317.0       16.0            2018-01-31 23:18:50  3.355454e+02   \n",
       "std    74.200602   4.295098                            NaN  2.590639e+01   \n",
       "\n",
       "            battery         cTemp           dtc         eLoad           iat  \\\n",
       "count  2.603283e+06  2.603283e+06  2.603283e+06  2.603283e+06  2.603283e+06   \n",
       "mean   2.881353e+00  6.196033e+01  3.470618e-03  3.078709e+01  2.697818e+01   \n",
       "min    0.000000e+00 -4.000000e+01  0.000000e+00  0.000000e+00 -4.000000e+01   \n",
       "25%    0.000000e+00  4.600000e+01  0.000000e+00  0.000000e+00  2.000000e+01   \n",
       "50%    0.000000e+00  8.000000e+01  0.000000e+00  2.705880e+01  3.100000e+01   \n",
       "75%    0.000000e+00  8.800000e+01  0.000000e+00  4.862750e+01  3.800000e+01   \n",
       "max    1.544000e+01  1.000000e+02  1.290000e+02  9.960780e+01  6.900000e+01   \n",
       "std    5.593824e+00  3.380097e+01  6.667132e-01  2.721933e+01  1.562004e+01   \n",
       "\n",
       "               imap           kpl           maf           rpm         speed  \\\n",
       "count  2.603283e+06  2.603283e+06  2.603283e+06  2.603283e+06  2.603283e+06   \n",
       "mean   7.051637e+01  5.432525e+00  7.690217e+00  9.891265e+02  2.233172e+01   \n",
       "min    0.000000e+00  0.000000e+00  0.000000e+00  0.000000e+00  0.000000e+00   \n",
       "25%    1.000000e+01  0.000000e+00  0.000000e+00  7.175000e+02  0.000000e+00   \n",
       "50%    9.600000e+01  1.985300e+00  7.080000e+00  9.990000e+02  1.500000e+01   \n",
       "75%    1.020000e+02  7.237800e+00  1.183000e+01  1.451000e+03  3.500000e+01   \n",
       "max    2.540000e+02  1.611200e+03  1.780800e+02  5.764000e+03  1.490000e+02   \n",
       "std    4.934314e+01  9.680714e+00  8.847903e+00  6.883989e+02  2.531490e+01   \n",
       "\n",
       "               tAdv          tPos  \n",
       "count  2.603283e+06  2.603283e+06  \n",
       "mean   2.247984e+00  1.477610e+01  \n",
       "min   -2.500000e+01  0.000000e+00  \n",
       "25%    0.000000e+00  0.000000e+00  \n",
       "50%    0.000000e+00  0.000000e+00  \n",
       "75%    0.000000e+00  1.725490e+01  \n",
       "max    5.050000e+01  9.960780e+01  \n",
       "std    8.001674e+00  2.682442e+01  "
      ]
     },
     "execution_count": 12,
     "metadata": {},
     "output_type": "execute_result"
    }
   ],
   "source": [
    "df.describe()"
   ]
  },
  {
   "cell_type": "code",
   "execution_count": 8,
   "id": "d1f75dbf",
   "metadata": {},
   "outputs": [],
   "source": [
    "#decoding accData\n",
    "error_log = []\n",
    "\n",
    "def decode_acc_data_xyz(hex_str, idx=None):\n",
    "    try:\n",
    "        if not isinstance(hex_str, str) or len(hex_str) < 12:\n",
    "            raise ValueError(\"Invalid string or too short\")\n",
    "\n",
    "        if len(hex_str) % 2 != 0:\n",
    "            hex_str = hex_str[:-1]\n",
    "\n",
    "        raw_bytes = binascii.unhexlify(hex_str)\n",
    "        usable_len = (len(raw_bytes) // 6) * 6\n",
    "        raw_bytes = raw_bytes[:usable_len]\n",
    "\n",
    "        acc_values = np.frombuffer(raw_bytes, dtype='<i2')\n",
    "        acc_triplets = acc_values.reshape(-1, 3)\n",
    "        x, y, z = acc_triplets[:, 0], acc_triplets[:, 1], acc_triplets[:, 2]\n",
    "        return x.tolist(), y.tolist(), z.tolist()\n",
    "\n",
    "    except Exception as e:\n",
    "        error_log.append({\n",
    "            \n",
    "            'index': idx,\n",
    "            'accData': hex_str,\n",
    "            'error': str(e)\n",
    "        })\n",
    "        return np.nan, np.nan, np.nan\n",
    "\n"
   ]
  },
  {
   "cell_type": "code",
   "execution_count": 9,
   "id": "d0210f91",
   "metadata": {},
   "outputs": [],
   "source": [
    "df['accel_x'], df['accel_y'], df['accel_z'] = None, None, None\n",
    "\n",
    "for i in df['accData'].dropna().index:\n",
    "    x, y, z = decode_acc_data_xyz(df.at[i, 'accData'], idx=i)\n",
    "    df.at[i, 'accel_x'] = x\n",
    "    df.at[i, 'accel_y'] = y\n",
    "    df.at[i, 'accel_z'] = z\n",
    "\n"
   ]
  },
  {
   "cell_type": "code",
   "execution_count": null,
   "id": "9cdd6902",
   "metadata": {},
   "outputs": [
    {
     "name": "stdout",
     "output_type": "stream",
     "text": [
      "Total decoding errors saved: 0\n"
     ]
    }
   ],
   "source": [
    "# Converting error log to DataFrame and save\n",
    "error_df = pd.DataFrame(error_log)\n",
    "error_df.to_csv('accdata_decoding_errors.csv', index=False)\n",
    "\n",
    "print(f\"Total decoding errors saved: {len(error_df)}\")\n"
   ]
  },
  {
   "cell_type": "code",
   "execution_count": 15,
   "id": "0387bd09",
   "metadata": {},
   "outputs": [
    {
     "data": {
      "text/plain": [
       "0"
      ]
     },
     "execution_count": 15,
     "metadata": {},
     "output_type": "execute_result"
    }
   ],
   "source": [
    "df['accData'].isnull().sum() \n"
   ]
  },
  {
   "cell_type": "code",
   "execution_count": 127,
   "id": "d5cee887",
   "metadata": {},
   "outputs": [],
   "source": [
    "# def extract_acc_features(x, y, z):\n",
    "#     try:\n",
    "#         x, y, z = np.array(x), np.array(y), np.array(z)\n",
    "#         mag = np.sqrt(x**2 + y**2 + z**2)\n",
    "#         jerk = np.abs(np.diff(mag))\n",
    "\n",
    "#         return pd.Series({\n",
    "#             'acc_mean': np.mean(mag),\n",
    "#             'acc_max': np.max(mag),\n",
    "#             'acc_std': np.std(mag),\n",
    "#             'acc_total': np.sum(mag),\n",
    "#             'acc_jerk_mean': np.mean(jerk),\n",
    "#             'acc_jerk_max': np.max(jerk)\n",
    "#         })\n",
    "#     except:\n",
    "#         return pd.Series({\n",
    "#             'acc_mean': np.nan,\n",
    "#             'acc_max': np.nan,\n",
    "#             'acc_std': np.nan,\n",
    "#             'acc_total': np.nan,\n",
    "#             'acc_jerk_mean': np.nan,\n",
    "#             'acc_jerk_max': np.nan\n",
    "#         })\n"
   ]
  },
  {
   "cell_type": "code",
   "execution_count": 128,
   "id": "0c6737fc",
   "metadata": {},
   "outputs": [],
   "source": [
    "# chunk_size = 100000\n",
    "# feature_chunks = []\n",
    "\n",
    "# for start in range(0, len(df), chunk_size):\n",
    "#     end = start + chunk_size\n",
    "#     chunk = df.iloc[start:end]\n",
    "\n",
    "#     features = chunk.apply(\n",
    "#         lambda row: extract_acc_features(row['accel_x'], row['accel_y'], row['accel_z']),\n",
    "#         axis=1\n",
    "#     )\n",
    "    \n",
    "#     feature_chunks.append(features)\n",
    "#     print(f\"Processed rows {start} to {end}\")\n"
   ]
  },
  {
   "cell_type": "code",
   "execution_count": 129,
   "id": "42333ccc",
   "metadata": {},
   "outputs": [],
   "source": [
    "# # Concatenate all processed chunks\n",
    "# final_features_df = pd.concat(feature_chunks, ignore_index=True)\n",
    "# final_features_df.to_csv(\"acc_features.csv\", index=False)           \n"
   ]
  },
  {
   "cell_type": "code",
   "execution_count": 10,
   "id": "93335d56",
   "metadata": {},
   "outputs": [],
   "source": [
    "# Loading previously saved features\n",
    "features_df = pd.read_csv(\"acc_features.csv\")"
   ]
  },
  {
   "cell_type": "code",
   "execution_count": 11,
   "id": "0a877746",
   "metadata": {},
   "outputs": [],
   "source": [
    "df = df.reset_index(drop=True)\n",
    "df = pd.concat([df, features_df], axis=1)\n"
   ]
  },
  {
   "cell_type": "code",
   "execution_count": 18,
   "id": "465bac4a",
   "metadata": {},
   "outputs": [
    {
     "data": {
      "image/png": "[encoded data removed]",
      "text/plain": [
       "<Figure size 600x400 with 1 Axes>"
      ]
     },
     "metadata": {},
     "output_type": "display_data"
    }
   ],
   "source": [
    "# Distribution of GPS speed\n",
    "speed_values = df['gps_speed'].dropna()\n",
    "plt.figure(figsize=(6,4))\n",
    "plt.hist(speed_values, bins=50, color='green', edgecolor='black')\n",
    "plt.xlabel('GPS Speed (km/h)')\n",
    "plt.ylabel('Number of Trips')\n",
    "plt.title('Distribution of Trip GPS Speed')\n",
    "plt.tight_layout()\n",
    "plt.show()\n"
   ]
  },
  {
   "cell_type": "markdown",
   "id": "180bac9d",
   "metadata": {},
   "source": [
    " \n",
    "The vast majority of trips have speeds under 50 km/h, with a significant concentration at or near zero, indicating possible idle states or very short movements.\n"
   ]
  },
  {
   "cell_type": "code",
   "execution_count": 19,
   "id": "76c5673b",
   "metadata": {},
   "outputs": [
    {
     "data": {
      "text/html": [
       "<div>\n",
       "<style scoped>\n",
       "    .dataframe tbody tr th:only-of-type {\n",
       "        vertical-align: middle;\n",
       "    }\n",
       "\n",
       "    .dataframe tbody tr th {\n",
       "        vertical-align: top;\n",
       "    }\n",
       "\n",
       "    .dataframe thead th {\n",
       "        text-align: right;\n",
       "    }\n",
       "</style>\n",
       "<table border=\"1\" class=\"dataframe\">\n",
       "  <thead>\n",
       "    <tr style=\"text-align: right;\">\n",
       "      <th></th>\n",
       "      <th>tripID</th>\n",
       "      <th>deviceID</th>\n",
       "      <th>timeStamp</th>\n",
       "      <th>accData</th>\n",
       "      <th>gps_speed</th>\n",
       "      <th>battery</th>\n",
       "      <th>cTemp</th>\n",
       "      <th>dtc</th>\n",
       "      <th>eLoad</th>\n",
       "      <th>iat</th>\n",
       "      <th>...</th>\n",
       "      <th>tPos</th>\n",
       "      <th>accel_x</th>\n",
       "      <th>accel_y</th>\n",
       "      <th>accel_z</th>\n",
       "      <th>acc_mean</th>\n",
       "      <th>acc_max</th>\n",
       "      <th>acc_std</th>\n",
       "      <th>acc_total</th>\n",
       "      <th>acc_jerk_mean</th>\n",
       "      <th>acc_jerk_max</th>\n",
       "    </tr>\n",
       "  </thead>\n",
       "  <tbody>\n",
       "    <tr>\n",
       "      <th>0</th>\n",
       "      <td>1</td>\n",
       "      <td>0</td>\n",
       "      <td>2017-12-22 18:43:05</td>\n",
       "      <td>10c0f8e00448fa18c80515d30000000000000000000000...</td>\n",
       "      <td>24.2612</td>\n",
       "      <td>0.0</td>\n",
       "      <td>66.0</td>\n",
       "      <td>0.0</td>\n",
       "      <td>28.6275</td>\n",
       "      <td>40.0</td>\n",
       "      <td>...</td>\n",
       "      <td>0.0</td>\n",
       "      <td>[-16368, 6394, 0, 0, 0, 0, 0, 0, 0, 0, 0, 0, 0]</td>\n",
       "      <td>[-7944, 1480, 0, 0, 0, 0, 0, 0, 0, 0, 0, 0, 0]</td>\n",
       "      <td>[18436, -11499, 0, 0, 0, 0, 0, 0, 0, 0, 0, 0, 0]</td>\n",
       "      <td>3010.918612</td>\n",
       "      <td>25901.827271</td>\n",
       "      <td>7485.124178</td>\n",
       "      <td>39141.941961</td>\n",
       "      <td>2158.485606</td>\n",
       "      <td>13240.11469</td>\n",
       "    </tr>\n",
       "  </tbody>\n",
       "</table>\n",
       "<p>1 rows × 26 columns</p>\n",
       "</div>"
      ],
      "text/plain": [
       "   tripID  deviceID           timeStamp  \\\n",
       "0       1         0 2017-12-22 18:43:05   \n",
       "\n",
       "                                             accData  gps_speed  battery  \\\n",
       "0  10c0f8e00448fa18c80515d30000000000000000000000...    24.2612      0.0   \n",
       "\n",
       "   cTemp  dtc    eLoad   iat  ...  tPos  \\\n",
       "0   66.0  0.0  28.6275  40.0  ...   0.0   \n",
       "\n",
       "                                           accel_x  \\\n",
       "0  [-16368, 6394, 0, 0, 0, 0, 0, 0, 0, 0, 0, 0, 0]   \n",
       "\n",
       "                                          accel_y  \\\n",
       "0  [-7944, 1480, 0, 0, 0, 0, 0, 0, 0, 0, 0, 0, 0]   \n",
       "\n",
       "                                            accel_z     acc_mean  \\\n",
       "0  [18436, -11499, 0, 0, 0, 0, 0, 0, 0, 0, 0, 0, 0]  3010.918612   \n",
       "\n",
       "        acc_max      acc_std     acc_total acc_jerk_mean acc_jerk_max  \n",
       "0  25901.827271  7485.124178  39141.941961   2158.485606  13240.11469  \n",
       "\n",
       "[1 rows x 26 columns]"
      ]
     },
     "execution_count": 19,
     "metadata": {},
     "output_type": "execute_result"
    }
   ],
   "source": [
    "df.head(1)"
   ]
  },
  {
   "cell_type": "code",
   "execution_count": 20,
   "id": "98084970",
   "metadata": {},
   "outputs": [
    {
     "name": "stdout",
     "output_type": "stream",
     "text": [
      "Correlation matrix:\n",
      "               avg_speed  gps_speed   acc_max   acc_std  acc_jerk_max       kpl\n",
      "avg_speed      1.000000   0.959656  0.035712  0.150539      0.039477  0.298106\n",
      "gps_speed      0.959656   1.000000  0.031455  0.141649      0.035611  0.293979\n",
      "acc_max        0.035712   0.031455  1.000000  0.929335      0.926143  0.040944\n",
      "acc_std        0.150539   0.141649  0.929335  1.000000      0.954404  0.039070\n",
      "acc_jerk_max   0.039477   0.035611  0.926143  0.954404      1.000000  0.033605\n",
      "kpl            0.298106   0.293979  0.040944  0.039070      0.033605  1.000000\n"
     ]
    }
   ],
   "source": [
    "# Selecting a subset of numeric features for correlation\n",
    "corr_features =['avg_speed','gps_speed','acc_max','acc_std','acc_jerk_max','kpl']\n",
    "# Since we have per-trip data, computing per-trip correlations\n",
    "df_corr = df.copy()\n",
    "df_corr['avg_speed'] = df_corr['speed'] \n",
    "df_corr['kpl'] = df_corr['kpl'].replace(0, np.nan)\n",
    "corr_matrix = df_corr[corr_features].corr()\n",
    "print(\"Correlation matrix:\\n\", corr_matrix)\n"
   ]
  },
  {
   "cell_type": "markdown",
   "id": "541a9e74",
   "metadata": {},
   "source": [
    "Distribution of Average Acceleration"
   ]
  },
  {
   "cell_type": "code",
   "execution_count": 29,
   "id": "7f7cc06e",
   "metadata": {},
   "outputs": [
    {
     "data": {
      "image/png": "[encoded data removed]",
      "text/plain": [
       "<Figure size 1000x500 with 1 Axes>"
      ]
     },
     "metadata": {},
     "output_type": "display_data"
    }
   ],
   "source": [
    "plt.figure(figsize=(10, 5))\n",
    "sns.histplot(df['acc_mean'].dropna(), bins=100, kde=True, color='skyblue')\n",
    "plt.title('Distribution of Mean Acceleration (Magnitude)')\n",
    "plt.xlabel('Mean Acceleration')\n",
    "plt.ylabel('Frequency')\n",
    "plt.grid(True)\n",
    "plt.show()\n"
   ]
  },
  {
   "cell_type": "markdown",
   "id": "e6c4c227",
   "metadata": {},
   "source": [
    "\n",
    "##  **Driving Behavior Insights**\n",
    "\n",
    "| Acceleration Range | Interpretation                    |\n",
    "| ------------------ | --------------------------------- |\n",
    "| \\~0                | Idle / No movement / Sensor noise |\n",
    "| 14,000–20,000      | Normal / Smooth driving           |\n",
    "| >20,000            | Aggressive / Risky behavior       |\n",
    "\n",
    "\n"
   ]
  },
  {
   "cell_type": "markdown",
   "id": "0af077c4",
   "metadata": {},
   "source": [
    "Distribution of Maximum Jerk\n"
   ]
  },
  {
   "cell_type": "code",
   "execution_count": 21,
   "id": "47f162dd",
   "metadata": {},
   "outputs": [
    {
     "data": {
      "image/png": "[encoded data removed]",
      "text/plain": [
       "<Figure size 1000x500 with 1 Axes>"
      ]
     },
     "metadata": {},
     "output_type": "display_data"
    }
   ],
   "source": [
    "plt.figure(figsize=(10, 5))\n",
    "sns.histplot(df['acc_jerk_max'].dropna(), bins=100, kde=True, color='orange')\n",
    "plt.title('Distribution of Maximum Jerk (Harshness)')\n",
    "plt.xlabel('Max Jerk (change in magnitude)')\n",
    "plt.ylabel('Frequency')\n",
    "plt.grid(True)\n",
    "plt.show()\n"
   ]
  },
  {
   "cell_type": "markdown",
   "id": "c4e8d989",
   "metadata": {},
   "source": [
    "\n",
    "### Behavioral Insight Based on `acc_jerk_max`:\n",
    "\n",
    "| Max Jerk Range | Driving Behavior |\n",
    "|----------------|------------------|\n",
    "| ~0             | Idle / Smooth driving |\n",
    "| 8,000–15,000   | Normal with occasional sharp motion |\n",
    "| >15,000        | Aggressive / Risky / Erratic driving |\n",
    "\n",
    "---\n"
   ]
  },
  {
   "cell_type": "markdown",
   "id": "fad8ed34",
   "metadata": {},
   "source": [
    "Correlation Heatmap of Features"
   ]
  },
  {
   "cell_type": "code",
   "execution_count": 22,
   "id": "3f105a18",
   "metadata": {},
   "outputs": [
    {
     "data": {
      "image/png": "[encoded data removed]",
      "text/plain": [
       "<Figure size 1000x600 with 2 Axes>"
      ]
     },
     "metadata": {},
     "output_type": "display_data"
    }
   ],
   "source": [
    "plt.figure(figsize=(10, 6))\n",
    "sns.heatmap(\n",
    "    df[['acc_mean', 'acc_max', 'acc_std', 'acc_total', 'acc_jerk_mean', 'acc_jerk_max']].corr(),\n",
    "    annot=True,\n",
    "    cmap='coolwarm',\n",
    "    fmt=\".2f\"\n",
    ")\n",
    "plt.title('Correlation Heatmap of Acceleration Features')\n",
    "plt.show()\n"
   ]
  },
  {
   "cell_type": "markdown",
   "id": "5ea110c3",
   "metadata": {},
   "source": [
    "##  Correlation Heatmap – Acceleration-Based Features\n",
    "\n",
    "This heatmap shows the **Pearson correlation coefficients** among extracted features from acceleration data, helping us understand their relationships and redundancy.\n",
    "\n",
    "#### Key Observations:\n",
    "\n",
    "1. **Strong Correlations**\n",
    "   - `acc_max`, `acc_std`, and `acc_jerk_max` are highly correlated (≥ 0.93)\n",
    "   - These jointly reflect **aggressive or erratic driving behavior**\n",
    "\n",
    "2. **Redundant Features**\n",
    "   - `acc_total` is perfectly correlated with `acc_mean` (1.00)\n",
    "   - One of them can be safely dropped in modeling or clustering\n",
    "\n",
    "3. **Moderate Insights**\n",
    "   - `acc_jerk_mean` correlates more with variability (`acc_std`) than overall speed (`acc_mean`)\n",
    "   - Suggests **smoothness/jerk is driven more by variation** than average motion\n",
    "\n"
   ]
  },
  {
   "cell_type": "markdown",
   "metadata": {},
   "source": [
    "## Clustering"
   ]
  },
  {
   "cell_type": "code",
   "execution_count": 43,
   "id": "127370d8",
   "metadata": {},
   "outputs": [],
   "source": [
    "features = [\n",
    "    'acc_mean', 'acc_max', 'acc_std', 'acc_total', \n",
    "    'acc_jerk_mean', 'acc_jerk_max', \n",
    "    'gps_speed', 'rpm', 'speed', 'battery'\n",
    "]\n",
    "X = df[features].copy()\n",
    "\n"
   ]
  },
  {
   "cell_type": "code",
   "execution_count": 44,
   "id": "630a78a3",
   "metadata": {},
   "outputs": [
    {
     "data": {
      "text/html": [
       "<div>\n",
       "<style scoped>\n",
       "    .dataframe tbody tr th:only-of-type {\n",
       "        vertical-align: middle;\n",
       "    }\n",
       "\n",
       "    .dataframe tbody tr th {\n",
       "        vertical-align: top;\n",
       "    }\n",
       "\n",
       "    .dataframe thead th {\n",
       "        text-align: right;\n",
       "    }\n",
       "</style>\n",
       "<table border=\"1\" class=\"dataframe\">\n",
       "  <thead>\n",
       "    <tr style=\"text-align: right;\">\n",
       "      <th></th>\n",
       "      <th>trip_duration_s</th>\n",
       "      <th>trip_start_hour</th>\n",
       "      <th>n_records</th>\n",
       "    </tr>\n",
       "    <tr>\n",
       "      <th>tripID</th>\n",
       "      <th></th>\n",
       "      <th></th>\n",
       "      <th></th>\n",
       "    </tr>\n",
       "  </thead>\n",
       "  <tbody>\n",
       "    <tr>\n",
       "      <th>1</th>\n",
       "      <td>5202070.0</td>\n",
       "      <td>6</td>\n",
       "      <td>21923</td>\n",
       "    </tr>\n",
       "    <tr>\n",
       "      <th>2</th>\n",
       "      <td>5223992.0</td>\n",
       "      <td>7</td>\n",
       "      <td>24227</td>\n",
       "    </tr>\n",
       "    <tr>\n",
       "      <th>3</th>\n",
       "      <td>5223340.0</td>\n",
       "      <td>8</td>\n",
       "      <td>16932</td>\n",
       "    </tr>\n",
       "    <tr>\n",
       "      <th>4</th>\n",
       "      <td>5218992.0</td>\n",
       "      <td>9</td>\n",
       "      <td>34600</td>\n",
       "    </tr>\n",
       "    <tr>\n",
       "      <th>5</th>\n",
       "      <td>5213387.0</td>\n",
       "      <td>11</td>\n",
       "      <td>34973</td>\n",
       "    </tr>\n",
       "  </tbody>\n",
       "</table>\n",
       "</div>"
      ],
      "text/plain": [
       "        trip_duration_s  trip_start_hour  n_records\n",
       "tripID                                             \n",
       "1             5202070.0                6      21923\n",
       "2             5223992.0                7      24227\n",
       "3             5223340.0                8      16932\n",
       "4             5218992.0                9      34600\n",
       "5             5213387.0               11      34973"
      ]
     },
     "execution_count": 44,
     "metadata": {},
     "output_type": "execute_result"
    }
   ],
   "source": [
    "# Trip‐level Temporal Features\n",
    "# Compute trip duration, start hour, # of records per trip\n",
    "trip_grp = df.groupby('tripID')\n",
    "trip_feats = pd.DataFrame({\n",
    "    'trip_duration_s': (trip_grp['timeStamp'].max() - trip_grp['timeStamp'].min()).dt.total_seconds(),\n",
    "    'trip_start_hour': trip_grp['timeStamp'].min().dt.hour,\n",
    "    'n_records': trip_grp.size()\n",
    "})\n",
    "trip_feats.head()"
   ]
  },
  {
   "cell_type": "code",
   "execution_count": 45,
   "id": "8c2452ea",
   "metadata": {},
   "outputs": [],
   "source": [
    "#Aggregating Numeric Features per Trip\n",
    "agg_funcs = ['mean','std','max']\n",
    "num_cols = ['gps_speed','rpm','speed','battery',\n",
    "            'acc_mean','acc_max','acc_std','acc_total',\n",
    "            'acc_jerk_mean','acc_jerk_max']\n",
    "trip_stats = df.groupby('tripID')[num_cols].agg(agg_funcs)\n",
    "trip_stats.columns = ['_'.join(col) for col in trip_stats.columns]\n"
   ]
  },
  {
   "cell_type": "code",
   "execution_count": 46,
   "id": "3c2abd76",
   "metadata": {},
   "outputs": [
    {
     "data": {
      "text/html": [
       "<div>\n",
       "<style scoped>\n",
       "    .dataframe tbody tr th:only-of-type {\n",
       "        vertical-align: middle;\n",
       "    }\n",
       "\n",
       "    .dataframe tbody tr th {\n",
       "        vertical-align: top;\n",
       "    }\n",
       "\n",
       "    .dataframe thead th {\n",
       "        text-align: right;\n",
       "    }\n",
       "</style>\n",
       "<table border=\"1\" class=\"dataframe\">\n",
       "  <thead>\n",
       "    <tr style=\"text-align: right;\">\n",
       "      <th></th>\n",
       "      <th>gps_speed_mean</th>\n",
       "      <th>gps_speed_std</th>\n",
       "      <th>gps_speed_max</th>\n",
       "      <th>rpm_mean</th>\n",
       "      <th>rpm_std</th>\n",
       "      <th>rpm_max</th>\n",
       "      <th>speed_mean</th>\n",
       "      <th>speed_std</th>\n",
       "      <th>speed_max</th>\n",
       "      <th>battery_mean</th>\n",
       "      <th>...</th>\n",
       "      <th>acc_total_max</th>\n",
       "      <th>acc_jerk_mean_mean</th>\n",
       "      <th>acc_jerk_mean_std</th>\n",
       "      <th>acc_jerk_mean_max</th>\n",
       "      <th>acc_jerk_max_mean</th>\n",
       "      <th>acc_jerk_max_std</th>\n",
       "      <th>acc_jerk_max_max</th>\n",
       "      <th>trip_duration_s</th>\n",
       "      <th>trip_start_hour</th>\n",
       "      <th>n_records</th>\n",
       "    </tr>\n",
       "    <tr>\n",
       "      <th>tripID</th>\n",
       "      <th></th>\n",
       "      <th></th>\n",
       "      <th></th>\n",
       "      <th></th>\n",
       "      <th></th>\n",
       "      <th></th>\n",
       "      <th></th>\n",
       "      <th></th>\n",
       "      <th></th>\n",
       "      <th></th>\n",
       "      <th></th>\n",
       "      <th></th>\n",
       "      <th></th>\n",
       "      <th></th>\n",
       "      <th></th>\n",
       "      <th></th>\n",
       "      <th></th>\n",
       "      <th></th>\n",
       "      <th></th>\n",
       "      <th></th>\n",
       "      <th></th>\n",
       "    </tr>\n",
       "  </thead>\n",
       "  <tbody>\n",
       "    <tr>\n",
       "      <th>1</th>\n",
       "      <td>26.297529</td>\n",
       "      <td>26.477173</td>\n",
       "      <td>176.6808</td>\n",
       "      <td>912.532854</td>\n",
       "      <td>570.868932</td>\n",
       "      <td>2825.0</td>\n",
       "      <td>23.950737</td>\n",
       "      <td>24.739027</td>\n",
       "      <td>93.0</td>\n",
       "      <td>1.014745</td>\n",
       "      <td>...</td>\n",
       "      <td>388087.451668</td>\n",
       "      <td>1819.935055</td>\n",
       "      <td>1759.599724</td>\n",
       "      <td>13214.801165</td>\n",
       "      <td>12079.368240</td>\n",
       "      <td>7083.394505</td>\n",
       "      <td>41922.317196</td>\n",
       "      <td>5202070.0</td>\n",
       "      <td>6</td>\n",
       "      <td>21923</td>\n",
       "    </tr>\n",
       "    <tr>\n",
       "      <th>2</th>\n",
       "      <td>26.390201</td>\n",
       "      <td>28.506910</td>\n",
       "      <td>170.5692</td>\n",
       "      <td>949.019802</td>\n",
       "      <td>654.797400</td>\n",
       "      <td>5764.0</td>\n",
       "      <td>24.797746</td>\n",
       "      <td>27.441791</td>\n",
       "      <td>100.0</td>\n",
       "      <td>3.432293</td>\n",
       "      <td>...</td>\n",
       "      <td>348989.287516</td>\n",
       "      <td>2593.450575</td>\n",
       "      <td>1716.335594</td>\n",
       "      <td>13848.782897</td>\n",
       "      <td>13946.195844</td>\n",
       "      <td>7632.334057</td>\n",
       "      <td>44612.771635</td>\n",
       "      <td>5223992.0</td>\n",
       "      <td>7</td>\n",
       "      <td>24227</td>\n",
       "    </tr>\n",
       "    <tr>\n",
       "      <th>3</th>\n",
       "      <td>14.340028</td>\n",
       "      <td>17.242719</td>\n",
       "      <td>79.2656</td>\n",
       "      <td>753.485885</td>\n",
       "      <td>648.192093</td>\n",
       "      <td>3179.5</td>\n",
       "      <td>13.631585</td>\n",
       "      <td>17.329750</td>\n",
       "      <td>79.0</td>\n",
       "      <td>3.089344</td>\n",
       "      <td>...</td>\n",
       "      <td>344251.753715</td>\n",
       "      <td>2340.699556</td>\n",
       "      <td>1545.117581</td>\n",
       "      <td>12791.935442</td>\n",
       "      <td>14556.503202</td>\n",
       "      <td>8162.781624</td>\n",
       "      <td>47942.258263</td>\n",
       "      <td>5223340.0</td>\n",
       "      <td>8</td>\n",
       "      <td>16932</td>\n",
       "    </tr>\n",
       "    <tr>\n",
       "      <th>4</th>\n",
       "      <td>21.745274</td>\n",
       "      <td>23.378775</td>\n",
       "      <td>120.3800</td>\n",
       "      <td>1030.312384</td>\n",
       "      <td>737.734294</td>\n",
       "      <td>4692.5</td>\n",
       "      <td>21.272514</td>\n",
       "      <td>22.982763</td>\n",
       "      <td>114.0</td>\n",
       "      <td>8.875505</td>\n",
       "      <td>...</td>\n",
       "      <td>378096.931698</td>\n",
       "      <td>2879.798817</td>\n",
       "      <td>1926.861869</td>\n",
       "      <td>15842.017699</td>\n",
       "      <td>15014.234192</td>\n",
       "      <td>8057.811004</td>\n",
       "      <td>45473.181997</td>\n",
       "      <td>5218992.0</td>\n",
       "      <td>9</td>\n",
       "      <td>34600</td>\n",
       "    </tr>\n",
       "    <tr>\n",
       "      <th>5</th>\n",
       "      <td>42.968915</td>\n",
       "      <td>36.428193</td>\n",
       "      <td>131.3068</td>\n",
       "      <td>1288.401889</td>\n",
       "      <td>702.911731</td>\n",
       "      <td>4581.5</td>\n",
       "      <td>41.819890</td>\n",
       "      <td>35.793155</td>\n",
       "      <td>108.0</td>\n",
       "      <td>2.484445</td>\n",
       "      <td>...</td>\n",
       "      <td>407711.962978</td>\n",
       "      <td>3224.269145</td>\n",
       "      <td>2901.382791</td>\n",
       "      <td>15871.031340</td>\n",
       "      <td>14040.808578</td>\n",
       "      <td>7512.562821</td>\n",
       "      <td>44629.139490</td>\n",
       "      <td>5213387.0</td>\n",
       "      <td>11</td>\n",
       "      <td>34973</td>\n",
       "    </tr>\n",
       "  </tbody>\n",
       "</table>\n",
       "<p>5 rows × 33 columns</p>\n",
       "</div>"
      ],
      "text/plain": [
       "        gps_speed_mean  gps_speed_std  gps_speed_max     rpm_mean     rpm_std  \\\n",
       "tripID                                                                          \n",
       "1            26.297529      26.477173       176.6808   912.532854  570.868932   \n",
       "2            26.390201      28.506910       170.5692   949.019802  654.797400   \n",
       "3            14.340028      17.242719        79.2656   753.485885  648.192093   \n",
       "4            21.745274      23.378775       120.3800  1030.312384  737.734294   \n",
       "5            42.968915      36.428193       131.3068  1288.401889  702.911731   \n",
       "\n",
       "        rpm_max  speed_mean  speed_std  speed_max  battery_mean  ...  \\\n",
       "tripID                                                           ...   \n",
       "1        2825.0   23.950737  24.739027       93.0      1.014745  ...   \n",
       "2        5764.0   24.797746  27.441791      100.0      3.432293  ...   \n",
       "3        3179.5   13.631585  17.329750       79.0      3.089344  ...   \n",
       "4        4692.5   21.272514  22.982763      114.0      8.875505  ...   \n",
       "5        4581.5   41.819890  35.793155      108.0      2.484445  ...   \n",
       "\n",
       "        acc_total_max  acc_jerk_mean_mean  acc_jerk_mean_std  \\\n",
       "tripID                                                         \n",
       "1       388087.451668         1819.935055        1759.599724   \n",
       "2       348989.287516         2593.450575        1716.335594   \n",
       "3       344251.753715         2340.699556        1545.117581   \n",
       "4       378096.931698         2879.798817        1926.861869   \n",
       "5       407711.962978         3224.269145        2901.382791   \n",
       "\n",
       "        acc_jerk_mean_max  acc_jerk_max_mean  acc_jerk_max_std  \\\n",
       "tripID                                                           \n",
       "1            13214.801165       12079.368240       7083.394505   \n",
       "2            13848.782897       13946.195844       7632.334057   \n",
       "3            12791.935442       14556.503202       8162.781624   \n",
       "4            15842.017699       15014.234192       8057.811004   \n",
       "5            15871.031340       14040.808578       7512.562821   \n",
       "\n",
       "        acc_jerk_max_max  trip_duration_s  trip_start_hour  n_records  \n",
       "tripID                                                                 \n",
       "1           41922.317196        5202070.0                6      21923  \n",
       "2           44612.771635        5223992.0                7      24227  \n",
       "3           47942.258263        5223340.0                8      16932  \n",
       "4           45473.181997        5218992.0                9      34600  \n",
       "5           44629.139490        5213387.0               11      34973  \n",
       "\n",
       "[5 rows x 33 columns]"
      ]
     },
     "execution_count": 46,
     "metadata": {},
     "output_type": "execute_result"
    }
   ],
   "source": [
    "#Combining all trip‐level features\n",
    "X_df = trip_stats.merge(trip_feats, left_index=True, right_index=True)\n",
    "X_df.dropna(inplace=True)\n",
    "X_df.head()\n"
   ]
  },
  {
   "cell_type": "code",
   "execution_count": 47,
   "id": "7724c015",
   "metadata": {},
   "outputs": [],
   "source": [
    "#Standardizing & PCA\n",
    "X = X_df.copy()\n",
    "scaler = StandardScaler()\n",
    "X_scaled = scaler.fit_transform(X)\n",
    "\n",
    "pca = PCA(n_components=2)\n",
    "X_pca = pca.fit_transform(X_scaled)\n"
   ]
  },
  {
   "cell_type": "code",
   "execution_count": 48,
   "id": "4b39ab01",
   "metadata": {},
   "outputs": [],
   "source": [
    "# KMeans Clustering\n",
    "kmeans = KMeans(n_clusters=3, random_state=42)\n",
    "X_df['km_cluster'] = kmeans.fit_predict(X_scaled)\n"
   ]
  },
  {
   "cell_type": "code",
   "execution_count": 49,
   "id": "41867544",
   "metadata": {},
   "outputs": [],
   "source": [
    "# DBSCAN Clustering\n",
    "db = DBSCAN(eps=1.5, min_samples=5)\n",
    "X_df['db_cluster'] = db.fit_predict(X_scaled)\n"
   ]
  },
  {
   "cell_type": "code",
   "execution_count": 50,
   "id": "7206967f",
   "metadata": {},
   "outputs": [
    {
     "data": {
      "image/png": "[encoded data removed]",
      "text/plain": [
       "<Figure size 800x600 with 1 Axes>"
      ]
     },
     "metadata": {},
     "output_type": "display_data"
    }
   ],
   "source": [
    "#Visualizing KMeans (PCA space)\n",
    "plt.figure(figsize=(8,6))\n",
    "sns.scatterplot(x=X_pca[:,0], y=X_pca[:,1], hue=X_df['km_cluster'], palette='tab10', alpha=0.6)\n",
    "plt.title(\"KMeans Clusters (PCA Projection)\")\n",
    "plt.xlabel(\"PCA1\"); plt.ylabel(\"PCA2\")\n",
    "plt.show()\n"
   ]
  },
  {
   "cell_type": "code",
   "execution_count": 51,
   "id": "e55b6e34",
   "metadata": {},
   "outputs": [
    {
     "data": {
      "image/png": "[encoded data removed]",
      "text/plain": [
       "<Figure size 800x600 with 1 Axes>"
      ]
     },
     "metadata": {},
     "output_type": "display_data"
    }
   ],
   "source": [
    "#Visualizing DBSCAN (PCA space)\n",
    "plt.figure(figsize=(8,6))\n",
    "sns.scatterplot(x=X_pca[:,0], y=X_pca[:,1], hue=X_df['db_cluster'], palette='tab10', alpha=0.6)\n",
    "plt.title(\"DBSCAN Clusters (PCA Projection)\")\n",
    "plt.xlabel(\"PCA1\"); plt.ylabel(\"PCA2\")\n",
    "plt.show()\n"
   ]
  },
  {
   "cell_type": "markdown",
   "id": "4436f44c",
   "metadata": {},
   "source": [
    "Here clearly we see that DBSCAN is not working fine. We will focus on Kmeans algorithm."
   ]
  },
  {
   "cell_type": "code",
   "execution_count": 52,
   "id": "cbdc6af4",
   "metadata": {},
   "outputs": [
    {
     "data": {
      "text/plain": [
       "behavior\n",
       "Normal        141\n",
       "Aggressive    120\n",
       "Calm           56\n",
       "Name: count, dtype: int64"
      ]
     },
     "execution_count": 52,
     "metadata": {},
     "output_type": "execute_result"
    }
   ],
   "source": [
    "#Mapping KMeans clusters → Behavior Labels\n",
    "centers = pd.DataFrame(kmeans.cluster_centers_, columns=X.columns)\n",
    "label_map = {\n",
    "    centers['acc_mean_mean'].idxmax(): 'Aggressive',\n",
    "    centers['acc_mean_mean'].idxmin(): 'Calm'\n",
    "}\n",
    "# Remaining cluster is 'Normal'\n",
    "mid = list(set([0,1,2]) - set(label_map.keys()))[0]\n",
    "label_map[mid] = 'Normal'\n",
    "X_df['behavior'] = X_df['km_cluster'].map(label_map)\n",
    "X_df['behavior'].value_counts()\n"
   ]
  },
  {
   "cell_type": "code",
   "execution_count": 53,
   "id": "51e911be",
   "metadata": {},
   "outputs": [
    {
     "data": {
      "text/html": [
       "<div>\n",
       "<style scoped>\n",
       "    .dataframe tbody tr th:only-of-type {\n",
       "        vertical-align: middle;\n",
       "    }\n",
       "\n",
       "    .dataframe tbody tr th {\n",
       "        vertical-align: top;\n",
       "    }\n",
       "\n",
       "    .dataframe thead th {\n",
       "        text-align: right;\n",
       "    }\n",
       "</style>\n",
       "<table border=\"1\" class=\"dataframe\">\n",
       "  <thead>\n",
       "    <tr style=\"text-align: right;\">\n",
       "      <th></th>\n",
       "      <th>gps_speed_mean</th>\n",
       "      <th>gps_speed_std</th>\n",
       "      <th>gps_speed_max</th>\n",
       "      <th>rpm_mean</th>\n",
       "      <th>rpm_std</th>\n",
       "      <th>rpm_max</th>\n",
       "      <th>speed_mean</th>\n",
       "      <th>speed_std</th>\n",
       "      <th>speed_max</th>\n",
       "      <th>battery_mean</th>\n",
       "      <th>...</th>\n",
       "      <th>acc_total_max</th>\n",
       "      <th>acc_jerk_mean_mean</th>\n",
       "      <th>acc_jerk_mean_std</th>\n",
       "      <th>acc_jerk_mean_max</th>\n",
       "      <th>acc_jerk_max_mean</th>\n",
       "      <th>acc_jerk_max_std</th>\n",
       "      <th>acc_jerk_max_max</th>\n",
       "      <th>trip_duration_s</th>\n",
       "      <th>trip_start_hour</th>\n",
       "      <th>n_records</th>\n",
       "    </tr>\n",
       "  </thead>\n",
       "  <tbody>\n",
       "    <tr>\n",
       "      <th>Cluster 0</th>\n",
       "      <td>18.356620</td>\n",
       "      <td>18.779154</td>\n",
       "      <td>93.002811</td>\n",
       "      <td>855.133533</td>\n",
       "      <td>617.999483</td>\n",
       "      <td>2838.669643</td>\n",
       "      <td>17.025231</td>\n",
       "      <td>18.178014</td>\n",
       "      <td>70.000000</td>\n",
       "      <td>1.169376</td>\n",
       "      <td>...</td>\n",
       "      <td>304021.715887</td>\n",
       "      <td>1924.327416</td>\n",
       "      <td>1805.943882</td>\n",
       "      <td>11150.865982</td>\n",
       "      <td>10850.482404</td>\n",
       "      <td>9565.973206</td>\n",
       "      <td>40610.588671</td>\n",
       "      <td>5.242396e+06</td>\n",
       "      <td>13.714286</td>\n",
       "      <td>6058.910714</td>\n",
       "    </tr>\n",
       "    <tr>\n",
       "      <th>Cluster 1</th>\n",
       "      <td>15.142223</td>\n",
       "      <td>15.497656</td>\n",
       "      <td>69.216339</td>\n",
       "      <td>759.957528</td>\n",
       "      <td>555.869280</td>\n",
       "      <td>2457.597917</td>\n",
       "      <td>14.092941</td>\n",
       "      <td>14.519746</td>\n",
       "      <td>53.441667</td>\n",
       "      <td>0.238016</td>\n",
       "      <td>...</td>\n",
       "      <td>293275.556683</td>\n",
       "      <td>2638.987751</td>\n",
       "      <td>1408.188971</td>\n",
       "      <td>10230.564446</td>\n",
       "      <td>15628.953000</td>\n",
       "      <td>7473.264997</td>\n",
       "      <td>38865.479462</td>\n",
       "      <td>3.139800e+06</td>\n",
       "      <td>16.541667</td>\n",
       "      <td>2769.325000</td>\n",
       "    </tr>\n",
       "    <tr>\n",
       "      <th>Cluster 2</th>\n",
       "      <td>23.796182</td>\n",
       "      <td>23.358354</td>\n",
       "      <td>120.094346</td>\n",
       "      <td>990.500964</td>\n",
       "      <td>676.892511</td>\n",
       "      <td>3554.648936</td>\n",
       "      <td>22.571281</td>\n",
       "      <td>22.711054</td>\n",
       "      <td>91.730496</td>\n",
       "      <td>3.232195</td>\n",
       "      <td>...</td>\n",
       "      <td>339445.096155</td>\n",
       "      <td>2924.223094</td>\n",
       "      <td>1714.675082</td>\n",
       "      <td>13990.980298</td>\n",
       "      <td>15529.013869</td>\n",
       "      <td>7961.599187</td>\n",
       "      <td>42832.388867</td>\n",
       "      <td>5.297140e+06</td>\n",
       "      <td>14.184397</td>\n",
       "      <td>13699.751773</td>\n",
       "    </tr>\n",
       "  </tbody>\n",
       "</table>\n",
       "<p>3 rows × 33 columns</p>\n",
       "</div>"
      ],
      "text/plain": [
       "           gps_speed_mean  gps_speed_std  gps_speed_max    rpm_mean  \\\n",
       "Cluster 0       18.356620      18.779154      93.002811  855.133533   \n",
       "Cluster 1       15.142223      15.497656      69.216339  759.957528   \n",
       "Cluster 2       23.796182      23.358354     120.094346  990.500964   \n",
       "\n",
       "              rpm_std      rpm_max  speed_mean  speed_std  speed_max  \\\n",
       "Cluster 0  617.999483  2838.669643   17.025231  18.178014  70.000000   \n",
       "Cluster 1  555.869280  2457.597917   14.092941  14.519746  53.441667   \n",
       "Cluster 2  676.892511  3554.648936   22.571281  22.711054  91.730496   \n",
       "\n",
       "           battery_mean  ...  acc_total_max  acc_jerk_mean_mean  \\\n",
       "Cluster 0      1.169376  ...  304021.715887         1924.327416   \n",
       "Cluster 1      0.238016  ...  293275.556683         2638.987751   \n",
       "Cluster 2      3.232195  ...  339445.096155         2924.223094   \n",
       "\n",
       "           acc_jerk_mean_std  acc_jerk_mean_max  acc_jerk_max_mean  \\\n",
       "Cluster 0        1805.943882       11150.865982       10850.482404   \n",
       "Cluster 1        1408.188971       10230.564446       15628.953000   \n",
       "Cluster 2        1714.675082       13990.980298       15529.013869   \n",
       "\n",
       "           acc_jerk_max_std  acc_jerk_max_max  trip_duration_s  \\\n",
       "Cluster 0       9565.973206      40610.588671     5.242396e+06   \n",
       "Cluster 1       7473.264997      38865.479462     3.139800e+06   \n",
       "Cluster 2       7961.599187      42832.388867     5.297140e+06   \n",
       "\n",
       "           trip_start_hour     n_records  \n",
       "Cluster 0        13.714286   6058.910714  \n",
       "Cluster 1        16.541667   2769.325000  \n",
       "Cluster 2        14.184397  13699.751773  \n",
       "\n",
       "[3 rows x 33 columns]"
      ]
     },
     "metadata": {},
     "output_type": "display_data"
    }
   ],
   "source": [
    "# Examining cluster centers in original scale\n",
    "centers = scaler.inverse_transform(kmeans.cluster_centers_)\n",
    "centroid_df = pd.DataFrame(centers, columns=X.columns)\n",
    "centroid_df.index = [f\"Cluster {i}\" for i in range(3)]\n",
    "display(centroid_df)\n"
   ]
  },
  {
   "cell_type": "code",
   "execution_count": 63,
   "id": "b7499646",
   "metadata": {},
   "outputs": [
    {
     "data": {
      "text/html": [
       "<div>\n",
       "<style scoped>\n",
       "    .dataframe tbody tr th:only-of-type {\n",
       "        vertical-align: middle;\n",
       "    }\n",
       "\n",
       "    .dataframe tbody tr th {\n",
       "        vertical-align: top;\n",
       "    }\n",
       "\n",
       "    .dataframe thead th {\n",
       "        text-align: right;\n",
       "    }\n",
       "</style>\n",
       "<table border=\"1\" class=\"dataframe\">\n",
       "  <thead>\n",
       "    <tr style=\"text-align: right;\">\n",
       "      <th></th>\n",
       "      <th>gps_speed_mean</th>\n",
       "      <th>gps_speed_std</th>\n",
       "      <th>gps_speed_max</th>\n",
       "      <th>rpm_mean</th>\n",
       "      <th>rpm_std</th>\n",
       "      <th>rpm_max</th>\n",
       "      <th>speed_mean</th>\n",
       "      <th>speed_std</th>\n",
       "      <th>speed_max</th>\n",
       "      <th>battery_mean</th>\n",
       "      <th>...</th>\n",
       "      <th>acc_jerk_mean_max</th>\n",
       "      <th>acc_jerk_max_mean</th>\n",
       "      <th>acc_jerk_max_std</th>\n",
       "      <th>acc_jerk_max_max</th>\n",
       "      <th>trip_duration_s</th>\n",
       "      <th>trip_start_hour</th>\n",
       "      <th>n_records</th>\n",
       "      <th>km_cluster</th>\n",
       "      <th>db_cluster</th>\n",
       "      <th>behavior</th>\n",
       "    </tr>\n",
       "    <tr>\n",
       "      <th>tripID</th>\n",
       "      <th></th>\n",
       "      <th></th>\n",
       "      <th></th>\n",
       "      <th></th>\n",
       "      <th></th>\n",
       "      <th></th>\n",
       "      <th></th>\n",
       "      <th></th>\n",
       "      <th></th>\n",
       "      <th></th>\n",
       "      <th></th>\n",
       "      <th></th>\n",
       "      <th></th>\n",
       "      <th></th>\n",
       "      <th></th>\n",
       "      <th></th>\n",
       "      <th></th>\n",
       "      <th></th>\n",
       "      <th></th>\n",
       "      <th></th>\n",
       "      <th></th>\n",
       "    </tr>\n",
       "  </thead>\n",
       "  <tbody>\n",
       "    <tr>\n",
       "      <th>1</th>\n",
       "      <td>26.297529</td>\n",
       "      <td>26.477173</td>\n",
       "      <td>176.6808</td>\n",
       "      <td>912.532854</td>\n",
       "      <td>570.868932</td>\n",
       "      <td>2825.0</td>\n",
       "      <td>23.950737</td>\n",
       "      <td>24.739027</td>\n",
       "      <td>93.0</td>\n",
       "      <td>1.014745</td>\n",
       "      <td>...</td>\n",
       "      <td>13214.801165</td>\n",
       "      <td>12079.36824</td>\n",
       "      <td>7083.394505</td>\n",
       "      <td>41922.317196</td>\n",
       "      <td>5202070.0</td>\n",
       "      <td>6</td>\n",
       "      <td>21923</td>\n",
       "      <td>2</td>\n",
       "      <td>-1</td>\n",
       "      <td>Normal</td>\n",
       "    </tr>\n",
       "  </tbody>\n",
       "</table>\n",
       "<p>1 rows × 36 columns</p>\n",
       "</div>"
      ],
      "text/plain": [
       "        gps_speed_mean  gps_speed_std  gps_speed_max    rpm_mean     rpm_std  \\\n",
       "tripID                                                                         \n",
       "1            26.297529      26.477173       176.6808  912.532854  570.868932   \n",
       "\n",
       "        rpm_max  speed_mean  speed_std  speed_max  battery_mean  ...  \\\n",
       "tripID                                                           ...   \n",
       "1        2825.0   23.950737  24.739027       93.0      1.014745  ...   \n",
       "\n",
       "        acc_jerk_mean_max  acc_jerk_max_mean  acc_jerk_max_std  \\\n",
       "tripID                                                           \n",
       "1            13214.801165        12079.36824       7083.394505   \n",
       "\n",
       "        acc_jerk_max_max  trip_duration_s  trip_start_hour  n_records  \\\n",
       "tripID                                                                  \n",
       "1           41922.317196        5202070.0                6      21923   \n",
       "\n",
       "        km_cluster  db_cluster  behavior  \n",
       "tripID                                    \n",
       "1                2          -1    Normal  \n",
       "\n",
       "[1 rows x 36 columns]"
      ]
     },
     "execution_count": 63,
     "metadata": {},
     "output_type": "execute_result"
    }
   ],
   "source": [
    "X_df.head(1)"
   ]
  },
  {
   "cell_type": "markdown",
   "id": "bda1cced",
   "metadata": {},
   "source": [
    "### Classification: Predicting Aggressive vs Normal Drivers vs Calm Drivers\n"
   ]
  },
  {
   "cell_type": "code",
   "execution_count": 64,
   "id": "ec9ce114",
   "metadata": {},
   "outputs": [],
   "source": [
    "# Preparing Classification Set\n",
    "y = LabelEncoder().fit_transform(X_df['behavior'])\n",
    "X_train, X_test, y_train, y_test = train_test_split(X_scaled, y, test_size=0.2, random_state=42)\n"
   ]
  },
  {
   "cell_type": "code",
   "execution_count": 65,
   "id": "25b512e1",
   "metadata": {},
   "outputs": [
    {
     "name": "stdout",
     "output_type": "stream",
     "text": [
      "\n",
      "LogisticRegression\n",
      " Test Acc: 0.984  CV Acc: 0.962\n",
      "              precision    recall  f1-score   support\n",
      "\n",
      "           0       1.00      1.00      1.00        22\n",
      "           1       1.00      0.92      0.96        12\n",
      "           2       0.97      1.00      0.98        30\n",
      "\n",
      "    accuracy                           0.98        64\n",
      "   macro avg       0.99      0.97      0.98        64\n",
      "weighted avg       0.98      0.98      0.98        64\n",
      "\n",
      "\n",
      "DecisionTree\n",
      " Test Acc: 0.906  CV Acc: 0.836\n",
      "              precision    recall  f1-score   support\n",
      "\n",
      "           0       0.91      0.91      0.91        22\n",
      "           1       0.86      1.00      0.92        12\n",
      "           2       0.93      0.87      0.90        30\n",
      "\n",
      "    accuracy                           0.91        64\n",
      "   macro avg       0.90      0.93      0.91        64\n",
      "weighted avg       0.91      0.91      0.91        64\n",
      "\n",
      "\n",
      "RandomForest\n",
      " Test Acc: 0.906  CV Acc: 0.867\n",
      "              precision    recall  f1-score   support\n",
      "\n",
      "           0       0.91      0.91      0.91        22\n",
      "           1       0.86      1.00      0.92        12\n",
      "           2       0.93      0.87      0.90        30\n",
      "\n",
      "    accuracy                           0.91        64\n",
      "   macro avg       0.90      0.93      0.91        64\n",
      "weighted avg       0.91      0.91      0.91        64\n",
      "\n",
      "\n",
      "SVM\n",
      " Test Acc: 0.984  CV Acc: 0.902\n",
      "              precision    recall  f1-score   support\n",
      "\n",
      "           0       0.96      1.00      0.98        22\n",
      "           1       1.00      1.00      1.00        12\n",
      "           2       1.00      0.97      0.98        30\n",
      "\n",
      "    accuracy                           0.98        64\n",
      "   macro avg       0.99      0.99      0.99        64\n",
      "weighted avg       0.99      0.98      0.98        64\n",
      "\n"
     ]
    },
    {
     "name": "stderr",
     "output_type": "stream",
     "text": [
      "e:\\VE_project\\venv\\Lib\\site-packages\\xgboost\\training.py:183: UserWarning: [18:04:14] WARNING: C:\\actions-runner\\_work\\xgboost\\xgboost\\src\\learner.cc:738: \n",
      "Parameters: { \"use_label_encoder\" } are not used.\n",
      "\n",
      "  bst.update(dtrain, iteration=i, fobj=obj)\n",
      "e:\\VE_project\\venv\\Lib\\site-packages\\xgboost\\training.py:183: UserWarning: [18:04:15] WARNING: C:\\actions-runner\\_work\\xgboost\\xgboost\\src\\learner.cc:738: \n",
      "Parameters: { \"use_label_encoder\" } are not used.\n",
      "\n",
      "  bst.update(dtrain, iteration=i, fobj=obj)\n",
      "e:\\VE_project\\venv\\Lib\\site-packages\\xgboost\\training.py:183: UserWarning: [18:04:15] WARNING: C:\\actions-runner\\_work\\xgboost\\xgboost\\src\\learner.cc:738: \n",
      "Parameters: { \"use_label_encoder\" } are not used.\n",
      "\n",
      "  bst.update(dtrain, iteration=i, fobj=obj)\n",
      "e:\\VE_project\\venv\\Lib\\site-packages\\xgboost\\training.py:183: UserWarning: [18:04:15] WARNING: C:\\actions-runner\\_work\\xgboost\\xgboost\\src\\learner.cc:738: \n",
      "Parameters: { \"use_label_encoder\" } are not used.\n",
      "\n",
      "  bst.update(dtrain, iteration=i, fobj=obj)\n",
      "e:\\VE_project\\venv\\Lib\\site-packages\\xgboost\\training.py:183: UserWarning: [18:04:15] WARNING: C:\\actions-runner\\_work\\xgboost\\xgboost\\src\\learner.cc:738: \n",
      "Parameters: { \"use_label_encoder\" } are not used.\n",
      "\n",
      "  bst.update(dtrain, iteration=i, fobj=obj)\n"
     ]
    },
    {
     "name": "stdout",
     "output_type": "stream",
     "text": [
      "\n",
      "XGBoost\n",
      " Test Acc: 0.938  CV Acc: 0.889\n",
      "              precision    recall  f1-score   support\n",
      "\n",
      "           0       0.95      0.91      0.93        22\n",
      "           1       0.92      1.00      0.96        12\n",
      "           2       0.93      0.93      0.93        30\n",
      "\n",
      "    accuracy                           0.94        64\n",
      "   macro avg       0.94      0.95      0.94        64\n",
      "weighted avg       0.94      0.94      0.94        64\n",
      "\n"
     ]
    },
    {
     "name": "stderr",
     "output_type": "stream",
     "text": [
      "e:\\VE_project\\venv\\Lib\\site-packages\\xgboost\\training.py:183: UserWarning: [18:04:16] WARNING: C:\\actions-runner\\_work\\xgboost\\xgboost\\src\\learner.cc:738: \n",
      "Parameters: { \"use_label_encoder\" } are not used.\n",
      "\n",
      "  bst.update(dtrain, iteration=i, fobj=obj)\n"
     ]
    }
   ],
   "source": [
    "#Training & Evaluating Classifiers\n",
    "models = {\n",
    "    'LogisticRegression': LogisticRegression(max_iter=1000),\n",
    "    'DecisionTree'       : DecisionTreeClassifier(),\n",
    "    'RandomForest'       : RandomForestClassifier(),\n",
    "    'SVM'                : SVC(),\n",
    "    'XGBoost'            : XGBClassifier(use_label_encoder=False, eval_metric='mlogloss')\n",
    "}\n",
    "\n",
    "results = {}\n",
    "for name, mdl in models.items():\n",
    "    mdl.fit(X_train, y_train)\n",
    "    y_pred = mdl.predict(X_test)\n",
    "    acc = accuracy_score(y_test, y_pred)\n",
    "    cv = cross_val_score(mdl, X_scaled, y, cv=5).mean()\n",
    "    results[name] = (acc, cv)\n",
    "    print(f\"\\n{name}\\n Test Acc: {acc:.3f}  CV Acc: {cv:.3f}\")\n",
    "    print(classification_report(y_test, y_pred))\n"
   ]
  },
  {
   "cell_type": "code",
   "execution_count": 66,
   "id": "ff97ed1f",
   "metadata": {},
   "outputs": [
    {
     "data": {
      "image/png": "[encoded data removed]",
      "text/plain": [
       "<Figure size 800x500 with 1 Axes>"
      ]
     },
     "metadata": {},
     "output_type": "display_data"
    }
   ],
   "source": [
    "#Comparing Model Performance\n",
    "res_df = pd.DataFrame(results, index=['TestAccuracy','CVAccuracy']).T\n",
    "res_df.plot.bar(figsize=(8,5))\n",
    "plt.title(\"Model Comparison\")\n",
    "plt.ylim(0,1)\n",
    "plt.ylabel(\"Accuracy\")\n",
    "plt.show()\n"
   ]
  },
  {
   "cell_type": "code",
   "execution_count": 67,
   "id": "eb283e5a",
   "metadata": {},
   "outputs": [
    {
     "name": "stdout",
     "output_type": "stream",
     "text": [
      "Best RF Params: {'n_estimators': 500, 'min_samples_split': 10, 'max_depth': 30}\n",
      "RF Best CV Score: 0.8737\n"
     ]
    },
    {
     "name": "stderr",
     "output_type": "stream",
     "text": [
      "e:\\VE_project\\venv\\Lib\\site-packages\\xgboost\\training.py:183: UserWarning: [18:04:51] WARNING: C:\\actions-runner\\_work\\xgboost\\xgboost\\src\\learner.cc:738: \n",
      "Parameters: { \"use_label_encoder\" } are not used.\n",
      "\n",
      "  bst.update(dtrain, iteration=i, fobj=obj)\n"
     ]
    },
    {
     "name": "stdout",
     "output_type": "stream",
     "text": [
      "Best XGB Params: {'n_estimators': 200, 'max_depth': 5, 'learning_rate': 0.1}\n",
      "XGB Best CV Score: 0.8958\n"
     ]
    }
   ],
   "source": [
    "#Hyperparameter Tuning with RandomizedSearchCV for XGBoost and RandomForest\n",
    "from sklearn.model_selection import RandomizedSearchCV\n",
    "\n",
    "# Random Forest tuning\n",
    "rf = RandomForestClassifier(random_state=42)\n",
    "rf_params = {\n",
    "    'n_estimators': [100, 200, 500],\n",
    "    'max_depth': [None, 10, 20, 30],\n",
    "    'min_samples_split': [2, 5, 10]\n",
    "}\n",
    "rf_search = RandomizedSearchCV(rf, rf_params, n_iter=10, cv=5, n_jobs=-1, random_state=42)\n",
    "rf_search.fit(X_scaled, y)\n",
    "print(f\"Best RF Params: {rf_search.best_params_}\")\n",
    "print(f\"RF Best CV Score: {rf_search.best_score_:.4f}\")\n",
    "\n",
    "# XGBoost tuning\n",
    "xgb = XGBClassifier(use_label_encoder=False, eval_metric='mlogloss', random_state=42)\n",
    "xgb_params = {\n",
    "    'n_estimators': [100, 200, 500],\n",
    "    'learning_rate': [0.01, 0.1, 0.2],\n",
    "    'max_depth': [3, 5, 7]\n",
    "}\n",
    "xgb_search = RandomizedSearchCV(xgb, xgb_params, n_iter=10, cv=5, n_jobs=-1, random_state=42)\n",
    "xgb_search.fit(X_scaled, y)\n",
    "print(f\"Best XGB Params: {xgb_search.best_params_}\")\n",
    "print(f\"XGB Best CV Score: {xgb_search.best_score_:.4f}\")\n",
    "\n",
    "\n"
   ]
  },
  {
   "cell_type": "code",
   "execution_count": 68,
   "id": "40088bd8",
   "metadata": {},
   "outputs": [
    {
     "name": "stdout",
     "output_type": "stream",
     "text": [
      "Voting Classifier CV Accuracy: 0.9116\n",
      "Voting Classifier Test Accuracy: 0.9531\n",
      "              precision    recall  f1-score   support\n",
      "\n",
      "           0       0.95      0.95      0.95        22\n",
      "           1       0.92      1.00      0.96        12\n",
      "           2       0.97      0.93      0.95        30\n",
      "\n",
      "    accuracy                           0.95        64\n",
      "   macro avg       0.95      0.96      0.95        64\n",
      "weighted avg       0.95      0.95      0.95        64\n",
      "\n"
     ]
    }
   ],
   "source": [
    "#Ensemble Learning with VotingClassifier\n",
    "from sklearn.ensemble import VotingClassifier\n",
    "\n",
    "# Instantiate tuned models\n",
    "best_rf = rf_search.best_estimator_\n",
    "best_xgb = xgb_search.best_estimator_\n",
    "\n",
    "# Creating voting classifier\n",
    "voting = VotingClassifier(estimators=[\n",
    "    ('lr', LogisticRegression(max_iter=1000)),\n",
    "    ('rf', best_rf),\n",
    "    ('xgb', best_xgb)\n",
    "], voting='soft', n_jobs=-1)\n",
    "\n",
    "# Evaluating voting classifier\n",
    "voting_scores = cross_val_score(voting, X_scaled, y, cv=5)\n",
    "print(f\"Voting Classifier CV Accuracy: {voting_scores.mean():.4f}\")\n",
    "\n",
    "# Training and testing voting\n",
    "voting.fit(X_train, y_train)\n",
    "v_pred = voting.predict(X_test)\n",
    "print(f\"Voting Classifier Test Accuracy: {accuracy_score(y_test, v_pred):.4f}\")\n",
    "print(classification_report(y_test, v_pred))"
   ]
  },
  {
   "cell_type": "code",
   "execution_count": 69,
   "id": "848950e7",
   "metadata": {},
   "outputs": [
    {
     "name": "stderr",
     "output_type": "stream",
     "text": [
      "e:\\VE_project\\venv\\Lib\\site-packages\\xgboost\\training.py:183: UserWarning: [18:05:08] WARNING: C:\\actions-runner\\_work\\xgboost\\xgboost\\src\\learner.cc:738: \n",
      "Parameters: { \"use_label_encoder\" } are not used.\n",
      "\n",
      "  bst.update(dtrain, iteration=i, fobj=obj)\n",
      "e:\\VE_project\\venv\\Lib\\site-packages\\xgboost\\training.py:183: UserWarning: [18:05:08] WARNING: C:\\actions-runner\\_work\\xgboost\\xgboost\\src\\learner.cc:738: \n",
      "Parameters: { \"use_label_encoder\" } are not used.\n",
      "\n",
      "  bst.update(dtrain, iteration=i, fobj=obj)\n",
      "e:\\VE_project\\venv\\Lib\\site-packages\\xgboost\\training.py:183: UserWarning: [18:05:08] WARNING: C:\\actions-runner\\_work\\xgboost\\xgboost\\src\\learner.cc:738: \n",
      "Parameters: { \"use_label_encoder\" } are not used.\n",
      "\n",
      "  bst.update(dtrain, iteration=i, fobj=obj)\n",
      "e:\\VE_project\\venv\\Lib\\site-packages\\xgboost\\training.py:183: UserWarning: [18:05:08] WARNING: C:\\actions-runner\\_work\\xgboost\\xgboost\\src\\learner.cc:738: \n",
      "Parameters: { \"use_label_encoder\" } are not used.\n",
      "\n",
      "  bst.update(dtrain, iteration=i, fobj=obj)\n",
      "e:\\VE_project\\venv\\Lib\\site-packages\\xgboost\\training.py:183: UserWarning: [18:05:08] WARNING: C:\\actions-runner\\_work\\xgboost\\xgboost\\src\\learner.cc:738: \n",
      "Parameters: { \"use_label_encoder\" } are not used.\n",
      "\n",
      "  bst.update(dtrain, iteration=i, fobj=obj)\n",
      "e:\\VE_project\\venv\\Lib\\site-packages\\xgboost\\training.py:183: UserWarning: [18:05:08] WARNING: C:\\actions-runner\\_work\\xgboost\\xgboost\\src\\learner.cc:738: \n",
      "Parameters: { \"use_label_encoder\" } are not used.\n",
      "\n",
      "  bst.update(dtrain, iteration=i, fobj=obj)\n",
      "e:\\VE_project\\venv\\Lib\\site-packages\\xgboost\\training.py:183: UserWarning: [18:05:08] WARNING: C:\\actions-runner\\_work\\xgboost\\xgboost\\src\\learner.cc:738: \n",
      "Parameters: { \"use_label_encoder\" } are not used.\n",
      "\n",
      "  bst.update(dtrain, iteration=i, fobj=obj)\n",
      "e:\\VE_project\\venv\\Lib\\site-packages\\xgboost\\training.py:183: UserWarning: [18:05:09] WARNING: C:\\actions-runner\\_work\\xgboost\\xgboost\\src\\learner.cc:738: \n",
      "Parameters: { \"use_label_encoder\" } are not used.\n",
      "\n",
      "  bst.update(dtrain, iteration=i, fobj=obj)\n",
      "e:\\VE_project\\venv\\Lib\\site-packages\\xgboost\\training.py:183: UserWarning: [18:05:09] WARNING: C:\\actions-runner\\_work\\xgboost\\xgboost\\src\\learner.cc:738: \n",
      "Parameters: { \"use_label_encoder\" } are not used.\n",
      "\n",
      "  bst.update(dtrain, iteration=i, fobj=obj)\n",
      "e:\\VE_project\\venv\\Lib\\site-packages\\xgboost\\training.py:183: UserWarning: [18:05:09] WARNING: C:\\actions-runner\\_work\\xgboost\\xgboost\\src\\learner.cc:738: \n",
      "Parameters: { \"use_label_encoder\" } are not used.\n",
      "\n",
      "  bst.update(dtrain, iteration=i, fobj=obj)\n",
      "e:\\VE_project\\venv\\Lib\\site-packages\\xgboost\\training.py:183: UserWarning: [18:05:09] WARNING: C:\\actions-runner\\_work\\xgboost\\xgboost\\src\\learner.cc:738: \n",
      "Parameters: { \"use_label_encoder\" } are not used.\n",
      "\n",
      "  bst.update(dtrain, iteration=i, fobj=obj)\n",
      "e:\\VE_project\\venv\\Lib\\site-packages\\xgboost\\training.py:183: UserWarning: [18:05:09] WARNING: C:\\actions-runner\\_work\\xgboost\\xgboost\\src\\learner.cc:738: \n",
      "Parameters: { \"use_label_encoder\" } are not used.\n",
      "\n",
      "  bst.update(dtrain, iteration=i, fobj=obj)\n",
      "e:\\VE_project\\venv\\Lib\\site-packages\\xgboost\\training.py:183: UserWarning: [18:05:09] WARNING: C:\\actions-runner\\_work\\xgboost\\xgboost\\src\\learner.cc:738: \n",
      "Parameters: { \"use_label_encoder\" } are not used.\n",
      "\n",
      "  bst.update(dtrain, iteration=i, fobj=obj)\n",
      "e:\\VE_project\\venv\\Lib\\site-packages\\xgboost\\training.py:183: UserWarning: [18:05:09] WARNING: C:\\actions-runner\\_work\\xgboost\\xgboost\\src\\learner.cc:738: \n",
      "Parameters: { \"use_label_encoder\" } are not used.\n",
      "\n",
      "  bst.update(dtrain, iteration=i, fobj=obj)\n",
      "e:\\VE_project\\venv\\Lib\\site-packages\\xgboost\\training.py:183: UserWarning: [18:05:09] WARNING: C:\\actions-runner\\_work\\xgboost\\xgboost\\src\\learner.cc:738: \n",
      "Parameters: { \"use_label_encoder\" } are not used.\n",
      "\n",
      "  bst.update(dtrain, iteration=i, fobj=obj)\n",
      "e:\\VE_project\\venv\\Lib\\site-packages\\xgboost\\training.py:183: UserWarning: [18:05:10] WARNING: C:\\actions-runner\\_work\\xgboost\\xgboost\\src\\learner.cc:738: \n",
      "Parameters: { \"use_label_encoder\" } are not used.\n",
      "\n",
      "  bst.update(dtrain, iteration=i, fobj=obj)\n",
      "e:\\VE_project\\venv\\Lib\\site-packages\\xgboost\\training.py:183: UserWarning: [18:05:10] WARNING: C:\\actions-runner\\_work\\xgboost\\xgboost\\src\\learner.cc:738: \n",
      "Parameters: { \"use_label_encoder\" } are not used.\n",
      "\n",
      "  bst.update(dtrain, iteration=i, fobj=obj)\n",
      "e:\\VE_project\\venv\\Lib\\site-packages\\xgboost\\training.py:183: UserWarning: [18:05:10] WARNING: C:\\actions-runner\\_work\\xgboost\\xgboost\\src\\learner.cc:738: \n",
      "Parameters: { \"use_label_encoder\" } are not used.\n",
      "\n",
      "  bst.update(dtrain, iteration=i, fobj=obj)\n",
      "e:\\VE_project\\venv\\Lib\\site-packages\\xgboost\\training.py:183: UserWarning: [18:05:10] WARNING: C:\\actions-runner\\_work\\xgboost\\xgboost\\src\\learner.cc:738: \n",
      "Parameters: { \"use_label_encoder\" } are not used.\n",
      "\n",
      "  bst.update(dtrain, iteration=i, fobj=obj)\n",
      "e:\\VE_project\\venv\\Lib\\site-packages\\xgboost\\training.py:183: UserWarning: [18:05:10] WARNING: C:\\actions-runner\\_work\\xgboost\\xgboost\\src\\learner.cc:738: \n",
      "Parameters: { \"use_label_encoder\" } are not used.\n",
      "\n",
      "  bst.update(dtrain, iteration=i, fobj=obj)\n",
      "e:\\VE_project\\venv\\Lib\\site-packages\\xgboost\\training.py:183: UserWarning: [18:05:10] WARNING: C:\\actions-runner\\_work\\xgboost\\xgboost\\src\\learner.cc:738: \n",
      "Parameters: { \"use_label_encoder\" } are not used.\n",
      "\n",
      "  bst.update(dtrain, iteration=i, fobj=obj)\n",
      "e:\\VE_project\\venv\\Lib\\site-packages\\xgboost\\training.py:183: UserWarning: [18:05:16] WARNING: C:\\actions-runner\\_work\\xgboost\\xgboost\\src\\learner.cc:738: \n",
      "Parameters: { \"use_label_encoder\" } are not used.\n",
      "\n",
      "  bst.update(dtrain, iteration=i, fobj=obj)\n",
      "e:\\VE_project\\venv\\Lib\\site-packages\\xgboost\\training.py:183: UserWarning: [18:05:16] WARNING: C:\\actions-runner\\_work\\xgboost\\xgboost\\src\\learner.cc:738: \n",
      "Parameters: { \"use_label_encoder\" } are not used.\n",
      "\n",
      "  bst.update(dtrain, iteration=i, fobj=obj)\n",
      "e:\\VE_project\\venv\\Lib\\site-packages\\xgboost\\training.py:183: UserWarning: [18:05:16] WARNING: C:\\actions-runner\\_work\\xgboost\\xgboost\\src\\learner.cc:738: \n",
      "Parameters: { \"use_label_encoder\" } are not used.\n",
      "\n",
      "  bst.update(dtrain, iteration=i, fobj=obj)\n",
      "e:\\VE_project\\venv\\Lib\\site-packages\\xgboost\\training.py:183: UserWarning: [18:05:17] WARNING: C:\\actions-runner\\_work\\xgboost\\xgboost\\src\\learner.cc:738: \n",
      "Parameters: { \"use_label_encoder\" } are not used.\n",
      "\n",
      "  bst.update(dtrain, iteration=i, fobj=obj)\n",
      "e:\\VE_project\\venv\\Lib\\site-packages\\xgboost\\training.py:183: UserWarning: [18:05:17] WARNING: C:\\actions-runner\\_work\\xgboost\\xgboost\\src\\learner.cc:738: \n",
      "Parameters: { \"use_label_encoder\" } are not used.\n",
      "\n",
      "  bst.update(dtrain, iteration=i, fobj=obj)\n",
      "e:\\VE_project\\venv\\Lib\\site-packages\\xgboost\\training.py:183: UserWarning: [18:05:17] WARNING: C:\\actions-runner\\_work\\xgboost\\xgboost\\src\\learner.cc:738: \n",
      "Parameters: { \"use_label_encoder\" } are not used.\n",
      "\n",
      "  bst.update(dtrain, iteration=i, fobj=obj)\n",
      "e:\\VE_project\\venv\\Lib\\site-packages\\xgboost\\training.py:183: UserWarning: [18:05:17] WARNING: C:\\actions-runner\\_work\\xgboost\\xgboost\\src\\learner.cc:738: \n",
      "Parameters: { \"use_label_encoder\" } are not used.\n",
      "\n",
      "  bst.update(dtrain, iteration=i, fobj=obj)\n",
      "e:\\VE_project\\venv\\Lib\\site-packages\\xgboost\\training.py:183: UserWarning: [18:05:17] WARNING: C:\\actions-runner\\_work\\xgboost\\xgboost\\src\\learner.cc:738: \n",
      "Parameters: { \"use_label_encoder\" } are not used.\n",
      "\n",
      "  bst.update(dtrain, iteration=i, fobj=obj)\n",
      "e:\\VE_project\\venv\\Lib\\site-packages\\xgboost\\training.py:183: UserWarning: [18:05:17] WARNING: C:\\actions-runner\\_work\\xgboost\\xgboost\\src\\learner.cc:738: \n",
      "Parameters: { \"use_label_encoder\" } are not used.\n",
      "\n",
      "  bst.update(dtrain, iteration=i, fobj=obj)\n",
      "e:\\VE_project\\venv\\Lib\\site-packages\\xgboost\\training.py:183: UserWarning: [18:05:17] WARNING: C:\\actions-runner\\_work\\xgboost\\xgboost\\src\\learner.cc:738: \n",
      "Parameters: { \"use_label_encoder\" } are not used.\n",
      "\n",
      "  bst.update(dtrain, iteration=i, fobj=obj)\n",
      "e:\\VE_project\\venv\\Lib\\site-packages\\xgboost\\training.py:183: UserWarning: [18:05:17] WARNING: C:\\actions-runner\\_work\\xgboost\\xgboost\\src\\learner.cc:738: \n",
      "Parameters: { \"use_label_encoder\" } are not used.\n",
      "\n",
      "  bst.update(dtrain, iteration=i, fobj=obj)\n",
      "e:\\VE_project\\venv\\Lib\\site-packages\\xgboost\\training.py:183: UserWarning: [18:05:18] WARNING: C:\\actions-runner\\_work\\xgboost\\xgboost\\src\\learner.cc:738: \n",
      "Parameters: { \"use_label_encoder\" } are not used.\n",
      "\n",
      "  bst.update(dtrain, iteration=i, fobj=obj)\n",
      "e:\\VE_project\\venv\\Lib\\site-packages\\xgboost\\training.py:183: UserWarning: [18:05:18] WARNING: C:\\actions-runner\\_work\\xgboost\\xgboost\\src\\learner.cc:738: \n",
      "Parameters: { \"use_label_encoder\" } are not used.\n",
      "\n",
      "  bst.update(dtrain, iteration=i, fobj=obj)\n",
      "e:\\VE_project\\venv\\Lib\\site-packages\\xgboost\\training.py:183: UserWarning: [18:05:18] WARNING: C:\\actions-runner\\_work\\xgboost\\xgboost\\src\\learner.cc:738: \n",
      "Parameters: { \"use_label_encoder\" } are not used.\n",
      "\n",
      "  bst.update(dtrain, iteration=i, fobj=obj)\n",
      "e:\\VE_project\\venv\\Lib\\site-packages\\xgboost\\training.py:183: UserWarning: [18:05:18] WARNING: C:\\actions-runner\\_work\\xgboost\\xgboost\\src\\learner.cc:738: \n",
      "Parameters: { \"use_label_encoder\" } are not used.\n",
      "\n",
      "  bst.update(dtrain, iteration=i, fobj=obj)\n",
      "e:\\VE_project\\venv\\Lib\\site-packages\\xgboost\\training.py:183: UserWarning: [18:05:18] WARNING: C:\\actions-runner\\_work\\xgboost\\xgboost\\src\\learner.cc:738: \n",
      "Parameters: { \"use_label_encoder\" } are not used.\n",
      "\n",
      "  bst.update(dtrain, iteration=i, fobj=obj)\n",
      "e:\\VE_project\\venv\\Lib\\site-packages\\xgboost\\training.py:183: UserWarning: [18:05:18] WARNING: C:\\actions-runner\\_work\\xgboost\\xgboost\\src\\learner.cc:738: \n",
      "Parameters: { \"use_label_encoder\" } are not used.\n",
      "\n",
      "  bst.update(dtrain, iteration=i, fobj=obj)\n",
      "e:\\VE_project\\venv\\Lib\\site-packages\\xgboost\\training.py:183: UserWarning: [18:05:18] WARNING: C:\\actions-runner\\_work\\xgboost\\xgboost\\src\\learner.cc:738: \n",
      "Parameters: { \"use_label_encoder\" } are not used.\n",
      "\n",
      "  bst.update(dtrain, iteration=i, fobj=obj)\n",
      "e:\\VE_project\\venv\\Lib\\site-packages\\xgboost\\training.py:183: UserWarning: [18:05:19] WARNING: C:\\actions-runner\\_work\\xgboost\\xgboost\\src\\learner.cc:738: \n",
      "Parameters: { \"use_label_encoder\" } are not used.\n",
      "\n",
      "  bst.update(dtrain, iteration=i, fobj=obj)\n",
      "e:\\VE_project\\venv\\Lib\\site-packages\\xgboost\\training.py:183: UserWarning: [18:05:19] WARNING: C:\\actions-runner\\_work\\xgboost\\xgboost\\src\\learner.cc:738: \n",
      "Parameters: { \"use_label_encoder\" } are not used.\n",
      "\n",
      "  bst.update(dtrain, iteration=i, fobj=obj)\n"
     ]
    },
    {
     "name": "stdout",
     "output_type": "stream",
     "text": [
      "Voting Classifier Accuracy: 0.953125\n",
      "              precision    recall  f1-score   support\n",
      "\n",
      "           0       0.95      0.95      0.95        22\n",
      "           1       0.92      1.00      0.96        12\n",
      "           2       0.97      0.93      0.95        30\n",
      "\n",
      "    accuracy                           0.95        64\n",
      "   macro avg       0.95      0.96      0.95        64\n",
      "weighted avg       0.95      0.95      0.95        64\n",
      "\n"
     ]
    },
    {
     "name": "stderr",
     "output_type": "stream",
     "text": [
      "e:\\VE_project\\venv\\Lib\\site-packages\\xgboost\\training.py:183: UserWarning: [18:05:19] WARNING: C:\\actions-runner\\_work\\xgboost\\xgboost\\src\\learner.cc:738: \n",
      "Parameters: { \"use_label_encoder\" } are not used.\n",
      "\n",
      "  bst.update(dtrain, iteration=i, fobj=obj)\n"
     ]
    }
   ],
   "source": [
    "from sklearn.model_selection import train_test_split, cross_val_score, StratifiedKFold, cross_val_predict, GridSearchCV\n",
    "cv = StratifiedKFold(n_splits=5, shuffle=True, random_state=42)\n",
    "\n",
    "# Tuning base models\n",
    "lr = GridSearchCV(LogisticRegression(max_iter=1000), {'C': [0.1, 1, 10]}, cv=cv)\n",
    "rf = GridSearchCV(RandomForestClassifier(), {'n_estimators': [50, 100], 'max_depth': [None, 10]}, cv=cv)\n",
    "xgb = GridSearchCV(XGBClassifier(use_label_encoder=False, eval_metric='mlogloss'), {'n_estimators': [50, 100], 'max_depth': [3, 5]}, cv=cv)\n",
    "\n",
    "# Fit and evaluate\n",
    "models = [('lr', lr), ('rf', rf), ('xgb', xgb)]\n",
    "for name, model in models:\n",
    "    model.fit(X_train, y_train)\n",
    "\n",
    "voting_clf = VotingClassifier(estimators=models, voting='soft')\n",
    "voting_clf.fit(X_train, y_train)\n",
    "y_pred = voting_clf.predict(X_test)\n",
    "\n",
    "# Evaluation\n",
    "print(\"Voting Classifier Accuracy:\", accuracy_score(y_test, y_pred))\n",
    "print(classification_report(y_test, y_pred))\n"
   ]
  },
  {
   "cell_type": "markdown",
   "id": "2c29f836",
   "metadata": {},
   "source": [
    "## Voting Classifier Performance Summary\n",
    "\n",
    "After hyperparameter tuning and ensemble learning using VotingClassifier (Logistic Regression + Random Forest + XGBoost), the model achieved:\n",
    "\n",
    "- **Accuracy:** 95%\n",
    "- **Macro F1 Score:** 0.96\n",
    "- **Weighted F1 Score:** 0.95\n",
    "\n",
    "### Class-wise Breakdown\n",
    "\n",
    "| Driver Type | Precision | Recall | F1-Score |\n",
    "|-------------|-----------|--------|----------|\n",
    "| Aggressive  | 1.00      | 0.96   | 0.98     |\n",
    "| Calm        | 0.92      | 1.00   | 0.96     |\n",
    "| Normal      | 0.97      | 0.97   | 0.97     |\n",
    "\n",
    "### ✅ Observations:\n",
    "\n",
    "- **High recall for Calm drivers** ensures safe behavior is well recognized.\n",
    "- **Aggressive driving** is detected precisely — reducing false alarms.\n",
    "- **Robust generalization** across all driver types (balanced F1-scores).\n",
    "- Ensemble learning significantly improved both accuracy and stability.\n",
    "\n"
   ]
  },
  {
   "cell_type": "code",
   "execution_count": 70,
   "id": "a54e9580",
   "metadata": {},
   "outputs": [
    {
     "data": {
      "image/png": "[encoded data removed]",
      "text/plain": [
       "<Figure size 640x480 with 2 Axes>"
      ]
     },
     "metadata": {},
     "output_type": "display_data"
    }
   ],
   "source": [
    "cm = confusion_matrix(y_test, y_pred)\n",
    "ConfusionMatrixDisplay(confusion_matrix=cm, display_labels=['Aggressive', 'Calm', 'Normal']).plot(cmap='Blues')\n",
    "plt.title(\"Voting Classifier - Confusion Matrix\")\n",
    "plt.grid(False)\n",
    "plt.show()\n"
   ]
  },
  {
   "cell_type": "code",
   "execution_count": 71,
   "id": "beaeaaf5",
   "metadata": {},
   "outputs": [],
   "source": [
    "# #Save best models\n",
    "# joblib.dump(voting_clf, \"voting_classifier_tuned.pkl\")\n",
    "# joblib.dump(scaler, \"scaler.pkl\")"
   ]
  },
  {
   "cell_type": "markdown",
   "id": "2b39703d",
   "metadata": {},
   "source": [
    "### Driver Risk Scoring\n"
   ]
  },
  {
   "cell_type": "code",
   "execution_count": 72,
   "id": "ad97c5e4",
   "metadata": {},
   "outputs": [],
   "source": [
    "# Selecting the features and aggregating per trip\n",
    "\n",
    "features = {\n",
    "    'acc_max_mean': 0.30,\n",
    "    'acc_jerk_max_max': 0.25,\n",
    "    'speed_mean': 0.20,\n",
    "    'acc_std_mean': 0.15,\n",
    "    'rpm_max': 0.10,\n",
    "}"
   ]
  },
  {
   "cell_type": "code",
   "execution_count": 73,
   "id": "310dd271",
   "metadata": {},
   "outputs": [
    {
     "data": {
      "text/html": [
       "<div>\n",
       "<style scoped>\n",
       "    .dataframe tbody tr th:only-of-type {\n",
       "        vertical-align: middle;\n",
       "    }\n",
       "\n",
       "    .dataframe tbody tr th {\n",
       "        vertical-align: top;\n",
       "    }\n",
       "\n",
       "    .dataframe thead th {\n",
       "        text-align: right;\n",
       "    }\n",
       "</style>\n",
       "<table border=\"1\" class=\"dataframe\">\n",
       "  <thead>\n",
       "    <tr style=\"text-align: right;\">\n",
       "      <th></th>\n",
       "      <th>gps_speed_mean</th>\n",
       "      <th>gps_speed_std</th>\n",
       "      <th>gps_speed_max</th>\n",
       "      <th>rpm_mean</th>\n",
       "      <th>rpm_std</th>\n",
       "      <th>rpm_max</th>\n",
       "      <th>speed_mean</th>\n",
       "      <th>speed_std</th>\n",
       "      <th>speed_max</th>\n",
       "      <th>battery_mean</th>\n",
       "      <th>...</th>\n",
       "      <th>acc_jerk_mean_max</th>\n",
       "      <th>acc_jerk_max_mean</th>\n",
       "      <th>acc_jerk_max_std</th>\n",
       "      <th>acc_jerk_max_max</th>\n",
       "      <th>trip_duration_s</th>\n",
       "      <th>trip_start_hour</th>\n",
       "      <th>n_records</th>\n",
       "      <th>km_cluster</th>\n",
       "      <th>db_cluster</th>\n",
       "      <th>behavior</th>\n",
       "    </tr>\n",
       "    <tr>\n",
       "      <th>tripID</th>\n",
       "      <th></th>\n",
       "      <th></th>\n",
       "      <th></th>\n",
       "      <th></th>\n",
       "      <th></th>\n",
       "      <th></th>\n",
       "      <th></th>\n",
       "      <th></th>\n",
       "      <th></th>\n",
       "      <th></th>\n",
       "      <th></th>\n",
       "      <th></th>\n",
       "      <th></th>\n",
       "      <th></th>\n",
       "      <th></th>\n",
       "      <th></th>\n",
       "      <th></th>\n",
       "      <th></th>\n",
       "      <th></th>\n",
       "      <th></th>\n",
       "      <th></th>\n",
       "    </tr>\n",
       "  </thead>\n",
       "  <tbody>\n",
       "    <tr>\n",
       "      <th>1</th>\n",
       "      <td>26.297529</td>\n",
       "      <td>26.477173</td>\n",
       "      <td>176.6808</td>\n",
       "      <td>912.532854</td>\n",
       "      <td>570.868932</td>\n",
       "      <td>2825.0</td>\n",
       "      <td>23.950737</td>\n",
       "      <td>24.739027</td>\n",
       "      <td>93.0</td>\n",
       "      <td>1.014745</td>\n",
       "      <td>...</td>\n",
       "      <td>13214.801165</td>\n",
       "      <td>12079.36824</td>\n",
       "      <td>7083.394505</td>\n",
       "      <td>41922.317196</td>\n",
       "      <td>5202070.0</td>\n",
       "      <td>6</td>\n",
       "      <td>21923</td>\n",
       "      <td>2</td>\n",
       "      <td>-1</td>\n",
       "      <td>Normal</td>\n",
       "    </tr>\n",
       "  </tbody>\n",
       "</table>\n",
       "<p>1 rows × 36 columns</p>\n",
       "</div>"
      ],
      "text/plain": [
       "        gps_speed_mean  gps_speed_std  gps_speed_max    rpm_mean     rpm_std  \\\n",
       "tripID                                                                         \n",
       "1            26.297529      26.477173       176.6808  912.532854  570.868932   \n",
       "\n",
       "        rpm_max  speed_mean  speed_std  speed_max  battery_mean  ...  \\\n",
       "tripID                                                           ...   \n",
       "1        2825.0   23.950737  24.739027       93.0      1.014745  ...   \n",
       "\n",
       "        acc_jerk_mean_max  acc_jerk_max_mean  acc_jerk_max_std  \\\n",
       "tripID                                                           \n",
       "1            13214.801165        12079.36824       7083.394505   \n",
       "\n",
       "        acc_jerk_max_max  trip_duration_s  trip_start_hour  n_records  \\\n",
       "tripID                                                                  \n",
       "1           41922.317196        5202070.0                6      21923   \n",
       "\n",
       "        km_cluster  db_cluster  behavior  \n",
       "tripID                                    \n",
       "1                2          -1    Normal  \n",
       "\n",
       "[1 rows x 36 columns]"
      ]
     },
     "execution_count": 73,
     "metadata": {},
     "output_type": "execute_result"
    }
   ],
   "source": [
    "X_df.head(1)"
   ]
  },
  {
   "cell_type": "code",
   "execution_count": 74,
   "id": "2b2dd2e7",
   "metadata": {},
   "outputs": [],
   "source": [
    "\n",
    "risk_df = X_df.reset_index()[['tripID'] + list(features.keys())].copy()\n",
    "risk_df.fillna(0, inplace=True)"
   ]
  },
  {
   "cell_type": "code",
   "execution_count": 75,
   "id": "9da02684",
   "metadata": {},
   "outputs": [],
   "source": [
    "scaler = MinMaxScaler()\n",
    "X_risk = scaler.fit_transform(risk_df[list(features.keys())])"
   ]
  },
  {
   "cell_type": "code",
   "execution_count": 76,
   "id": "239dcbd9",
   "metadata": {},
   "outputs": [],
   "source": [
    "#Computing weighted sum and scaling to 0–100\n",
    "weights = np.array(list(features.values()))\n",
    "risk_scores = X_risk.dot(weights) * 100\n",
    "risk_df['risk_score'] = np.round(risk_scores, 1)"
   ]
  },
  {
   "cell_type": "code",
   "execution_count": 77,
   "id": "cc0a76b9",
   "metadata": {},
   "outputs": [],
   "source": [
    "def label_risk(s):\n",
    "    if s >= 70: return 'High Risk'\n",
    "    if s >= 40: return 'Medium Risk'\n",
    "    return 'Low Risk'\n",
    "\n",
    "risk_df['risk_level'] = risk_df['risk_score'].apply(label_risk)"
   ]
  },
  {
   "cell_type": "code",
   "execution_count": 78,
   "id": "f1ddb3c0",
   "metadata": {},
   "outputs": [
    {
     "name": "stdout",
     "output_type": "stream",
     "text": [
      "risk_score  risk_level\n",
      "16.7        Low Risk      1\n",
      "17.9        Low Risk      1\n",
      "20.6        Low Risk      1\n",
      "21.1        Low Risk      1\n",
      "26.9        Low Risk      1\n",
      "                         ..\n",
      "75.9        High Risk     1\n",
      "77.2        High Risk     2\n",
      "77.4        High Risk     1\n",
      "77.6        High Risk     2\n",
      "78.9        High Risk     1\n",
      "Name: count, Length: 204, dtype: int64\n"
     ]
    },
    {
     "data": {
      "image/png": "[encoded data removed]",
      "text/plain": [
       "<Figure size 640x480 with 1 Axes>"
      ]
     },
     "metadata": {},
     "output_type": "display_data"
    }
   ],
   "source": [
    "print(risk_df[['risk_score','risk_level']].value_counts().sort_index())\n",
    "sns.histplot(risk_df['risk_score'], bins=30, kde=True)\n",
    "plt.title(\"Trip Risk Score Distribution\")\n",
    "plt.xlabel(\"Risk Score (0–100)\")\n",
    "plt.show()"
   ]
  },
  {
   "cell_type": "markdown",
   "id": "eee7ee69",
   "metadata": {},
   "source": [
    "## Trip Risk Score Distribution\n",
    "\n",
    "This histogram shows the distribution of the computed **Risk Score (0–100)** across all driving trips, with a KDE overlay for smooth visualization.\n",
    "\n",
    "- **Peak at ~60**: The majority of trips cluster around a medium risk level, reflecting typical driving behavior.\n",
    "- **Left Tail (<40)**: A smaller cohort of trips with very low risk — these are calm, consistent trips.\n",
    "- **Right Tail (>70)**: A minority of trips with high risk — aggressive acceleration or high-speed events.\n",
    "\n"
   ]
  },
  {
   "cell_type": "code",
   "execution_count": 79,
   "id": "930e5614",
   "metadata": {},
   "outputs": [],
   "source": [
    "\n",
    "# risk_df.to_csv(\"trip_risk_scores.csv\", index=False)"
   ]
  },
  {
   "cell_type": "code",
   "execution_count": 80,
   "id": "acf89485",
   "metadata": {},
   "outputs": [
    {
     "name": "stdout",
     "output_type": "stream",
     "text": [
      "\n",
      "Trip counts by risk level:\n",
      "risk_level\n",
      "Medium Risk    275\n",
      "Low Risk        26\n",
      "High Risk       16\n",
      "Name: count, dtype: int64\n"
     ]
    }
   ],
   "source": [
    "# Counting trips per risk level\n",
    "print(\"\\nTrip counts by risk level:\")\n",
    "print(risk_df['risk_level'].value_counts())"
   ]
  },
  {
   "cell_type": "code",
   "execution_count": 81,
   "id": "eac1ac6e",
   "metadata": {},
   "outputs": [
    {
     "name": "stdout",
     "output_type": "stream",
     "text": [
      "     tripID  risk_score risk_level\n",
      "167     168        78.9  High Risk\n",
      "189     190        77.6  High Risk\n",
      "247     248        77.6  High Risk\n",
      "190     191        77.4  High Risk\n",
      "257     258        77.2  High Risk\n",
      "66       67        77.2  High Risk\n",
      "166     167        75.9  High Risk\n",
      "246     247        75.1  High Risk\n",
      "6         7        73.7  High Risk\n",
      "10       11        73.5  High Risk\n"
     ]
    }
   ],
   "source": [
    "# High risk trips\n",
    "trip_ranking = risk_df.sort_values(by='risk_score', ascending=False)\n",
    "print(trip_ranking[['tripID','risk_score','risk_level']].head(10))"
   ]
  },
  {
   "cell_type": "code",
   "execution_count": 82,
   "id": "fd236843",
   "metadata": {},
   "outputs": [
    {
     "name": "stdout",
     "output_type": "stream",
     "text": [
      "Trips with risk_score ≥ 70: 16 found\n",
      "<IntegerArray>\n",
      "[5, 7, 11, 20, 29, 44, 67, 96, 101, 167, 168, 190, 191, 247, 248, 258]\n",
      "Length: 16, dtype: Int64\n"
     ]
    }
   ],
   "source": [
    "# Identifing High‑Risk Trips\n",
    "high_risk_trips = risk_df.loc[risk_df['risk_score'] >= 70, 'tripID'].unique()\n",
    "print(f\"Trips with risk_score ≥ 70: {len(high_risk_trips)} found\")\n",
    "print(high_risk_trips)\n"
   ]
  },
  {
   "cell_type": "code",
   "execution_count": 83,
   "id": "486c47bb",
   "metadata": {},
   "outputs": [
    {
     "name": "stdout",
     "output_type": "stream",
     "text": [
      "\n",
      "Drivers with ≥1 High‑Risk trip (risk_score ≥ 70):\n",
      "<IntegerArray>\n",
      "[0, 10, 12, 16, 5, 9, 1, 11, 2, 3, 4, 6, 7, 8]\n",
      "Length: 14, dtype: Int64\n"
     ]
    }
   ],
   "source": [
    "# Mapping High‑Risk Trips Back to Device IDs\n",
    "trip_to_dev = df[['tripID', 'deviceID']].drop_duplicates()\n",
    "high_risk_devs = trip_to_dev.loc[trip_to_dev['tripID'].isin(high_risk_trips), 'deviceID'].unique()\n",
    "print(f\"\\nDrivers with ≥1 High‑Risk trip (risk_score ≥ 70):\")\n",
    "print(high_risk_devs)\n"
   ]
  },
  {
   "cell_type": "code",
   "execution_count": 84,
   "id": "515c4dab",
   "metadata": {},
   "outputs": [],
   "source": [
    "# Computing each driver’s avg and max trip risk\n",
    "driver_summary = (\n",
    "    risk_df.merge(trip_to_dev, on='tripID', how='left')\n",
    "           .query(\"deviceID in @high_risk_devs\")\n",
    "           .groupby('deviceID')['risk_score']\n",
    "           .agg(['mean','max','count'])\n",
    "           .rename(columns={'mean':'avg_risk','max':'max_risk','count':'n_high_risk_trips'})\n",
    "           .sort_values(by='max_risk', ascending=False)\n",
    "           .reset_index()\n",
    ")\n",
    "driver_summary['avg_risk'] = driver_summary['avg_risk'].round(1)\n",
    "driver_summary['max_risk'] = driver_summary['max_risk'].round(1)\n"
   ]
  },
  {
   "cell_type": "code",
   "execution_count": 85,
   "id": "0f105ee1",
   "metadata": {},
   "outputs": [
    {
     "name": "stdout",
     "output_type": "stream",
     "text": [
      "High‑Risk Drivers Summary:\n"
     ]
    },
    {
     "data": {
      "text/html": [
       "<div>\n",
       "<style scoped>\n",
       "    .dataframe tbody tr th:only-of-type {\n",
       "        vertical-align: middle;\n",
       "    }\n",
       "\n",
       "    .dataframe tbody tr th {\n",
       "        vertical-align: top;\n",
       "    }\n",
       "\n",
       "    .dataframe thead th {\n",
       "        text-align: right;\n",
       "    }\n",
       "</style>\n",
       "<table border=\"1\" class=\"dataframe\">\n",
       "  <thead>\n",
       "    <tr style=\"text-align: right;\">\n",
       "      <th></th>\n",
       "      <th>deviceID</th>\n",
       "      <th>avg_risk</th>\n",
       "      <th>max_risk</th>\n",
       "      <th>n_high_risk_trips</th>\n",
       "    </tr>\n",
       "  </thead>\n",
       "  <tbody>\n",
       "    <tr>\n",
       "      <th>0</th>\n",
       "      <td>5</td>\n",
       "      <td>55.7</td>\n",
       "      <td>78.9</td>\n",
       "      <td>317</td>\n",
       "    </tr>\n",
       "    <tr>\n",
       "      <th>1</th>\n",
       "      <td>10</td>\n",
       "      <td>56.4</td>\n",
       "      <td>78.9</td>\n",
       "      <td>257</td>\n",
       "    </tr>\n",
       "    <tr>\n",
       "      <th>2</th>\n",
       "      <td>12</td>\n",
       "      <td>56.4</td>\n",
       "      <td>78.9</td>\n",
       "      <td>253</td>\n",
       "    </tr>\n",
       "    <tr>\n",
       "      <th>3</th>\n",
       "      <td>0</td>\n",
       "      <td>60.6</td>\n",
       "      <td>77.2</td>\n",
       "      <td>89</td>\n",
       "    </tr>\n",
       "    <tr>\n",
       "      <th>4</th>\n",
       "      <td>3</td>\n",
       "      <td>59.0</td>\n",
       "      <td>77.2</td>\n",
       "      <td>163</td>\n",
       "    </tr>\n",
       "    <tr>\n",
       "      <th>5</th>\n",
       "      <td>7</td>\n",
       "      <td>59.7</td>\n",
       "      <td>77.2</td>\n",
       "      <td>126</td>\n",
       "    </tr>\n",
       "    <tr>\n",
       "      <th>6</th>\n",
       "      <td>9</td>\n",
       "      <td>59.1</td>\n",
       "      <td>77.2</td>\n",
       "      <td>157</td>\n",
       "    </tr>\n",
       "    <tr>\n",
       "      <th>7</th>\n",
       "      <td>1</td>\n",
       "      <td>63.8</td>\n",
       "      <td>73.7</td>\n",
       "      <td>11</td>\n",
       "    </tr>\n",
       "    <tr>\n",
       "      <th>8</th>\n",
       "      <td>2</td>\n",
       "      <td>61.8</td>\n",
       "      <td>73.7</td>\n",
       "      <td>39</td>\n",
       "    </tr>\n",
       "    <tr>\n",
       "      <th>9</th>\n",
       "      <td>4</td>\n",
       "      <td>62.8</td>\n",
       "      <td>73.7</td>\n",
       "      <td>10</td>\n",
       "    </tr>\n",
       "    <tr>\n",
       "      <th>10</th>\n",
       "      <td>6</td>\n",
       "      <td>61.9</td>\n",
       "      <td>73.7</td>\n",
       "      <td>19</td>\n",
       "    </tr>\n",
       "    <tr>\n",
       "      <th>11</th>\n",
       "      <td>8</td>\n",
       "      <td>61.6</td>\n",
       "      <td>73.7</td>\n",
       "      <td>40</td>\n",
       "    </tr>\n",
       "    <tr>\n",
       "      <th>12</th>\n",
       "      <td>11</td>\n",
       "      <td>63.8</td>\n",
       "      <td>73.7</td>\n",
       "      <td>11</td>\n",
       "    </tr>\n",
       "    <tr>\n",
       "      <th>13</th>\n",
       "      <td>16</td>\n",
       "      <td>61.5</td>\n",
       "      <td>73.7</td>\n",
       "      <td>43</td>\n",
       "    </tr>\n",
       "  </tbody>\n",
       "</table>\n",
       "</div>"
      ],
      "text/plain": [
       "    deviceID  avg_risk  max_risk  n_high_risk_trips\n",
       "0          5      55.7      78.9                317\n",
       "1         10      56.4      78.9                257\n",
       "2         12      56.4      78.9                253\n",
       "3          0      60.6      77.2                 89\n",
       "4          3      59.0      77.2                163\n",
       "5          7      59.7      77.2                126\n",
       "6          9      59.1      77.2                157\n",
       "7          1      63.8      73.7                 11\n",
       "8          2      61.8      73.7                 39\n",
       "9          4      62.8      73.7                 10\n",
       "10         6      61.9      73.7                 19\n",
       "11         8      61.6      73.7                 40\n",
       "12        11      63.8      73.7                 11\n",
       "13        16      61.5      73.7                 43"
      ]
     },
     "metadata": {},
     "output_type": "display_data"
    }
   ],
   "source": [
    "#Displaying the High‑Risk Drivers Summary\n",
    "print(\"High‑Risk Drivers Summary:\")\n",
    "display(driver_summary)"
   ]
  },
  {
   "cell_type": "code",
   "execution_count": 154,
   "id": "8f638785",
   "metadata": {},
   "outputs": [
    {
     "name": "stderr",
     "output_type": "stream",
     "text": [
      "C:\\Users\\Anjali\\AppData\\Local\\Temp\\ipykernel_10476\\3768385256.py:3: FutureWarning: \n",
      "\n",
      "Passing `palette` without assigning `hue` is deprecated and will be removed in v0.14.0. Assign the `x` variable to `hue` and set `legend=False` for the same effect.\n",
      "\n",
      "  sns.barplot(data=driver_summary, x='deviceID', y='max_risk', palette='Reds')\n",
      "e:\\VE_project\\venv\\Lib\\site-packages\\IPython\\core\\pylabtools.py:170: UserWarning: Glyph 8209 (\\N{NON-BREAKING HYPHEN}) missing from font(s) Arial.\n",
      "  fig.canvas.print_figure(bytes_io, **kw)\n"
     ]
    },
    {
     "data": {
      "image/png": "[encoded data removed]",
      "text/plain": [
       "<Figure size 800x400 with 1 Axes>"
      ]
     },
     "metadata": {},
     "output_type": "display_data"
    }
   ],
   "source": [
    "#bar plot of their max risk\n",
    "plt.figure(figsize=(8,4))\n",
    "sns.barplot(data=driver_summary, x='deviceID', y='max_risk', palette='Reds')\n",
    "plt.title(\"Max Trip Risk Score for High‑Risk Drivers\")\n",
    "plt.xlabel(\"Device ID\")\n",
    "plt.ylabel(\"Max Risk Score\")\n",
    "plt.show()"
   ]
  },
  {
   "cell_type": "code",
   "execution_count": 87,
   "id": "d68b679b",
   "metadata": {},
   "outputs": [],
   "source": [
    "df_dl = df.copy()"
   ]
  },
  {
   "cell_type": "code",
   "execution_count": 88,
   "id": "5134fd54",
   "metadata": {},
   "outputs": [
    {
     "data": {
      "text/plain": [
       "Index(['gps_speed_mean', 'gps_speed_std', 'gps_speed_max', 'rpm_mean',\n",
       "       'rpm_std', 'rpm_max', 'speed_mean', 'speed_std', 'speed_max',\n",
       "       'battery_mean', 'battery_std', 'battery_max', 'acc_mean_mean',\n",
       "       'acc_mean_std', 'acc_mean_max', 'acc_max_mean', 'acc_max_std',\n",
       "       'acc_max_max', 'acc_std_mean', 'acc_std_std', 'acc_std_max',\n",
       "       'acc_total_mean', 'acc_total_std', 'acc_total_max',\n",
       "       'acc_jerk_mean_mean', 'acc_jerk_mean_std', 'acc_jerk_mean_max',\n",
       "       'acc_jerk_max_mean', 'acc_jerk_max_std', 'acc_jerk_max_max',\n",
       "       'trip_duration_s', 'trip_start_hour', 'n_records', 'km_cluster',\n",
       "       'db_cluster', 'behavior'],\n",
       "      dtype='object')"
      ]
     },
     "execution_count": 88,
     "metadata": {},
     "output_type": "execute_result"
    }
   ],
   "source": [
    "X_df.columns"
   ]
  },
  {
   "cell_type": "code",
   "execution_count": 89,
   "id": "ca643a22",
   "metadata": {},
   "outputs": [],
   "source": [
    "import ast\n",
    "df_dl['accel_x'] = df_dl['accel_x'].apply(lambda x: ast.literal_eval(x) if isinstance(x, str) else x)\n",
    "df_dl['accel_y'] = df_dl['accel_y'].apply(lambda x: ast.literal_eval(x) if isinstance(x, str) else x)\n",
    "df_dl['accel_z'] = df_dl['accel_z'].apply(lambda x: ast.literal_eval(x) if isinstance(x, str) else x)\n"
   ]
  },
  {
   "cell_type": "code",
   "execution_count": 90,
   "id": "64bfa7be",
   "metadata": {},
   "outputs": [
    {
     "name": "stderr",
     "output_type": "stream",
     "text": [
      "C:\\Users\\Anjali\\AppData\\Local\\Temp\\ipykernel_10476\\4161400382.py:2: RuntimeWarning: invalid value encountered in sqrt\n",
      "  return np.sqrt(np.array(x)**2 + np.array(y)**2 + np.array(z)**2)\n"
     ]
    }
   ],
   "source": [
    "def get_accel_magnitude(x, y, z):\n",
    "    return np.sqrt(np.array(x)**2 + np.array(y)**2 + np.array(z)**2)\n",
    "\n",
    "df['accel_magnitude'] = df.apply(lambda row: get_accel_magnitude(row['accel_x'], row['accel_y'], row['accel_z']), axis=1)\n"
   ]
  },
  {
   "cell_type": "code",
   "execution_count": 91,
   "id": "23e680b6",
   "metadata": {},
   "outputs": [
    {
     "name": "stdout",
     "output_type": "stream",
     "text": [
      "Raw df shape after behavior mapping: (2603283, 28)\n",
      "Behavior counts:\n",
      " behavior\n",
      "Normal        1931665\n",
      "Calm           339299\n",
      "Aggressive     332319\n",
      "Name: count, dtype: int64\n"
     ]
    }
   ],
   "source": [
    "# Using X_df index (tripID) to map behavior labels\n",
    "trip_behavior_map = X_df['behavior'].to_dict()\n",
    "\n",
    "# Assigning behavior to raw df using tripID\n",
    "df['behavior'] = df['tripID'].map(trip_behavior_map)\n",
    "\n",
    "# Dropping rows where mapping failed (trips not found in X_df)\n",
    "df = df.dropna(subset=['behavior'])\n",
    "df.reset_index(drop=True, inplace=True)\n",
    "\n",
    "print(\"Raw df shape after behavior mapping:\", df.shape)\n",
    "print(\"Behavior counts:\\n\", df['behavior'].value_counts())\n"
   ]
  },
  {
   "cell_type": "markdown",
   "id": "14bb2e50",
   "metadata": {},
   "source": [
    "## LSTM - Sequence labelling"
   ]
  },
  {
   "cell_type": "code",
   "execution_count": 137,
   "id": "194f1978",
   "metadata": {},
   "outputs": [],
   "source": [
    "# Features to include in LSTM sequences\n",
    "sequence_features = ['accel_x', 'accel_y', 'accel_z', 'gps_speed']\n",
    "\n",
    "sequences = []\n",
    "labels = []\n",
    "\n",
    "# Fixed sequence length (pad/truncate to this)\n",
    "MAX_SEQ_LEN = 100\n",
    "\n",
    "# Looping over each trip\n",
    "for trip_id, trip_data in df.groupby('tripID'):\n",
    "    if trip_id not in trip_behavior_map:\n",
    "        continue\n",
    "\n",
    "    label = trip_behavior_map[trip_id]\n",
    "    \n",
    "    # Building sequence from accel_x/y/z and gps_speed\n",
    "    seq = []\n",
    "    for _, row in trip_data.iterrows():\n",
    "        # Make sure accel_* are lists\n",
    "        if not isinstance(row['accel_x'], list):\n",
    "            continue\n",
    "        for i in range(len(row['accel_x'])):\n",
    "            # For each index in accel_x/y/z\n",
    "            try:\n",
    "                point = [\n",
    "                    row['accel_x'][i],\n",
    "                    row['accel_y'][i],\n",
    "                    row['accel_z'][i],\n",
    "                    row['gps_speed']\n",
    "                ]\n",
    "                seq.append(point)\n",
    "            except:\n",
    "                continue\n",
    "\n",
    "    # Skip if sequence is empty\n",
    "    if len(seq) == 0:\n",
    "        continue\n",
    "\n",
    "    # Pad or truncate to fixed length\n",
    "    if len(seq) >= MAX_SEQ_LEN:\n",
    "        seq = seq[:MAX_SEQ_LEN]\n",
    "    else:\n",
    "        pad_len = MAX_SEQ_LEN - len(seq)\n",
    "        seq += [[0]*len(sequence_features)] * pad_len  # Pad with zeros\n",
    "\n",
    "    sequences.append(seq)\n",
    "    labels.append(label)\n"
   ]
  },
  {
   "cell_type": "code",
   "execution_count": 138,
   "id": "34d5ffc8",
   "metadata": {},
   "outputs": [
    {
     "name": "stdout",
     "output_type": "stream",
     "text": [
      "X_lstm shape: (317, 100, 4)\n",
      "y_lstm shape: (317,)\n",
      "Label mapping: {'Aggressive': 0, 'Calm': 1, 'Normal': 2}\n"
     ]
    }
   ],
   "source": [
    "X_lstm = np.array(sequences)  # Shape: (num_trips, time_steps, features)\n",
    "label_encoder = LabelEncoder()\n",
    "y_lstm = label_encoder.fit_transform(labels)\n",
    "\n",
    "print(\"X_lstm shape:\", X_lstm.shape)\n",
    "print(\"y_lstm shape:\", y_lstm.shape)\n",
    "print(\"Label mapping:\", dict(zip(label_encoder.classes_, label_encoder.transform(label_encoder.classes_))))\n",
    "\n"
   ]
  },
  {
   "cell_type": "code",
   "execution_count": 139,
   "id": "c685963f",
   "metadata": {},
   "outputs": [],
   "source": [
    "X_train, X_test, y_train, y_test = train_test_split(X_lstm, y_lstm, test_size=0.2, random_state=42, stratify=y_lstm)\n"
   ]
  },
  {
   "cell_type": "code",
   "execution_count": 140,
   "id": "e4e52c83",
   "metadata": {},
   "outputs": [],
   "source": [
    "from tensorflow.keras import backend as K\n",
    "K.clear_session()\n"
   ]
  },
  {
   "cell_type": "code",
   "execution_count": 141,
   "id": "308be2ec",
   "metadata": {},
   "outputs": [
    {
     "name": "stderr",
     "output_type": "stream",
     "text": [
      "e:\\VE_project\\venv\\Lib\\site-packages\\keras\\src\\layers\\rnn\\rnn.py:199: UserWarning: Do not pass an `input_shape`/`input_dim` argument to a layer. When using Sequential models, prefer using an `Input(shape)` object as the first layer in the model instead.\n",
      "  super().__init__(**kwargs)\n"
     ]
    },
    {
     "data": {
      "text/html": [
       "<pre style=\"white-space:pre;overflow-x:auto;line-height:normal;font-family:Menlo,'DejaVu Sans Mono',consolas,'Courier New',monospace\"><span style=\"font-weight: bold\">Model: \"sequential\"</span>\n",
       "</pre>\n"
      ],
      "text/plain": [
       "\u001b[1mModel: \"sequential\"\u001b[0m\n"
      ]
     },
     "metadata": {},
     "output_type": "display_data"
    },
    {
     "data": {
      "text/html": [
       "<pre style=\"white-space:pre;overflow-x:auto;line-height:normal;font-family:Menlo,'DejaVu Sans Mono',consolas,'Courier New',monospace\">┏━━━━━━━━━━━━━━━━━━━━━━━━━━━━━━━━━┳━━━━━━━━━━━━━━━━━━━━━━━━┳━━━━━━━━━━━━━━━┓\n",
       "┃<span style=\"font-weight: bold\"> Layer (type)                    </span>┃<span style=\"font-weight: bold\"> Output Shape           </span>┃<span style=\"font-weight: bold\">       Param # </span>┃\n",
       "┡━━━━━━━━━━━━━━━━━━━━━━━━━━━━━━━━━╇━━━━━━━━━━━━━━━━━━━━━━━━╇━━━━━━━━━━━━━━━┩\n",
       "│ lstm (<span style=\"color: #0087ff; text-decoration-color: #0087ff\">LSTM</span>)                     │ (<span style=\"color: #00d7ff; text-decoration-color: #00d7ff\">None</span>, <span style=\"color: #00af00; text-decoration-color: #00af00\">100</span>, <span style=\"color: #00af00; text-decoration-color: #00af00\">64</span>)        │        <span style=\"color: #00af00; text-decoration-color: #00af00\">17,664</span> │\n",
       "├─────────────────────────────────┼────────────────────────┼───────────────┤\n",
       "│ dropout (<span style=\"color: #0087ff; text-decoration-color: #0087ff\">Dropout</span>)               │ (<span style=\"color: #00d7ff; text-decoration-color: #00d7ff\">None</span>, <span style=\"color: #00af00; text-decoration-color: #00af00\">100</span>, <span style=\"color: #00af00; text-decoration-color: #00af00\">64</span>)        │             <span style=\"color: #00af00; text-decoration-color: #00af00\">0</span> │\n",
       "├─────────────────────────────────┼────────────────────────┼───────────────┤\n",
       "│ lstm_1 (<span style=\"color: #0087ff; text-decoration-color: #0087ff\">LSTM</span>)                   │ (<span style=\"color: #00d7ff; text-decoration-color: #00d7ff\">None</span>, <span style=\"color: #00af00; text-decoration-color: #00af00\">32</span>)             │        <span style=\"color: #00af00; text-decoration-color: #00af00\">12,416</span> │\n",
       "├─────────────────────────────────┼────────────────────────┼───────────────┤\n",
       "│ dense (<span style=\"color: #0087ff; text-decoration-color: #0087ff\">Dense</span>)                   │ (<span style=\"color: #00d7ff; text-decoration-color: #00d7ff\">None</span>, <span style=\"color: #00af00; text-decoration-color: #00af00\">32</span>)             │         <span style=\"color: #00af00; text-decoration-color: #00af00\">1,056</span> │\n",
       "├─────────────────────────────────┼────────────────────────┼───────────────┤\n",
       "│ dense_1 (<span style=\"color: #0087ff; text-decoration-color: #0087ff\">Dense</span>)                 │ (<span style=\"color: #00d7ff; text-decoration-color: #00d7ff\">None</span>, <span style=\"color: #00af00; text-decoration-color: #00af00\">3</span>)              │            <span style=\"color: #00af00; text-decoration-color: #00af00\">99</span> │\n",
       "└─────────────────────────────────┴────────────────────────┴───────────────┘\n",
       "</pre>\n"
      ],
      "text/plain": [
       "┏━━━━━━━━━━━━━━━━━━━━━━━━━━━━━━━━━┳━━━━━━━━━━━━━━━━━━━━━━━━┳━━━━━━━━━━━━━━━┓\n",
       "┃\u001b[1m \u001b[0m\u001b[1mLayer (type)                   \u001b[0m\u001b[1m \u001b[0m┃\u001b[1m \u001b[0m\u001b[1mOutput Shape          \u001b[0m\u001b[1m \u001b[0m┃\u001b[1m \u001b[0m\u001b[1m      Param #\u001b[0m\u001b[1m \u001b[0m┃\n",
       "┡━━━━━━━━━━━━━━━━━━━━━━━━━━━━━━━━━╇━━━━━━━━━━━━━━━━━━━━━━━━╇━━━━━━━━━━━━━━━┩\n",
       "│ lstm (\u001b[38;5;33mLSTM\u001b[0m)                     │ (\u001b[38;5;45mNone\u001b[0m, \u001b[38;5;34m100\u001b[0m, \u001b[38;5;34m64\u001b[0m)        │        \u001b[38;5;34m17,664\u001b[0m │\n",
       "├─────────────────────────────────┼────────────────────────┼───────────────┤\n",
       "│ dropout (\u001b[38;5;33mDropout\u001b[0m)               │ (\u001b[38;5;45mNone\u001b[0m, \u001b[38;5;34m100\u001b[0m, \u001b[38;5;34m64\u001b[0m)        │             \u001b[38;5;34m0\u001b[0m │\n",
       "├─────────────────────────────────┼────────────────────────┼───────────────┤\n",
       "│ lstm_1 (\u001b[38;5;33mLSTM\u001b[0m)                   │ (\u001b[38;5;45mNone\u001b[0m, \u001b[38;5;34m32\u001b[0m)             │        \u001b[38;5;34m12,416\u001b[0m │\n",
       "├─────────────────────────────────┼────────────────────────┼───────────────┤\n",
       "│ dense (\u001b[38;5;33mDense\u001b[0m)                   │ (\u001b[38;5;45mNone\u001b[0m, \u001b[38;5;34m32\u001b[0m)             │         \u001b[38;5;34m1,056\u001b[0m │\n",
       "├─────────────────────────────────┼────────────────────────┼───────────────┤\n",
       "│ dense_1 (\u001b[38;5;33mDense\u001b[0m)                 │ (\u001b[38;5;45mNone\u001b[0m, \u001b[38;5;34m3\u001b[0m)              │            \u001b[38;5;34m99\u001b[0m │\n",
       "└─────────────────────────────────┴────────────────────────┴───────────────┘\n"
      ]
     },
     "metadata": {},
     "output_type": "display_data"
    },
    {
     "data": {
      "text/html": [
       "<pre style=\"white-space:pre;overflow-x:auto;line-height:normal;font-family:Menlo,'DejaVu Sans Mono',consolas,'Courier New',monospace\"><span style=\"font-weight: bold\"> Total params: </span><span style=\"color: #00af00; text-decoration-color: #00af00\">31,235</span> (122.01 KB)\n",
       "</pre>\n"
      ],
      "text/plain": [
       "\u001b[1m Total params: \u001b[0m\u001b[38;5;34m31,235\u001b[0m (122.01 KB)\n"
      ]
     },
     "metadata": {},
     "output_type": "display_data"
    },
    {
     "data": {
      "text/html": [
       "<pre style=\"white-space:pre;overflow-x:auto;line-height:normal;font-family:Menlo,'DejaVu Sans Mono',consolas,'Courier New',monospace\"><span style=\"font-weight: bold\"> Trainable params: </span><span style=\"color: #00af00; text-decoration-color: #00af00\">31,235</span> (122.01 KB)\n",
       "</pre>\n"
      ],
      "text/plain": [
       "\u001b[1m Trainable params: \u001b[0m\u001b[38;5;34m31,235\u001b[0m (122.01 KB)\n"
      ]
     },
     "metadata": {},
     "output_type": "display_data"
    },
    {
     "data": {
      "text/html": [
       "<pre style=\"white-space:pre;overflow-x:auto;line-height:normal;font-family:Menlo,'DejaVu Sans Mono',consolas,'Courier New',monospace\"><span style=\"font-weight: bold\"> Non-trainable params: </span><span style=\"color: #00af00; text-decoration-color: #00af00\">0</span> (0.00 B)\n",
       "</pre>\n"
      ],
      "text/plain": [
       "\u001b[1m Non-trainable params: \u001b[0m\u001b[38;5;34m0\u001b[0m (0.00 B)\n"
      ]
     },
     "metadata": {},
     "output_type": "display_data"
    }
   ],
   "source": [
    "y_train_cat = to_categorical(y_train)\n",
    "y_test_cat = to_categorical(y_test)\n",
    "\n",
    "# LSTM model\n",
    "model = Sequential()\n",
    "model.add(LSTM(64, return_sequences=True, input_shape=(MAX_SEQ_LEN, len(sequence_features))))\n",
    "model.add(Dropout(0.3))\n",
    "model.add(LSTM(32))\n",
    "model.add(Dense(32, activation='relu'))\n",
    "model.add(Dense(y_train_cat.shape[1], activation='softmax'))\n",
    "\n",
    "model.compile(optimizer='adam', loss='categorical_crossentropy', metrics=['accuracy'])\n",
    "model.summary()\n",
    "\n"
   ]
  },
  {
   "cell_type": "code",
   "execution_count": 151,
   "id": "182ffed2",
   "metadata": {},
   "outputs": [
    {
     "name": "stdout",
     "output_type": "stream",
     "text": [
      "Epoch 1/12\n",
      "\u001b[1m4/4\u001b[0m \u001b[32m━━━━━━━━━━━━━━━━━━━━\u001b[0m\u001b[37m\u001b[0m \u001b[1m1s\u001b[0m 224ms/step - accuracy: 0.9471 - loss: 0.1457 - val_accuracy: 0.7500 - val_loss: 1.1778\n",
      "Epoch 2/12\n",
      "\u001b[1m4/4\u001b[0m \u001b[32m━━━━━━━━━━━━━━━━━━━━\u001b[0m\u001b[37m\u001b[0m \u001b[1m1s\u001b[0m 121ms/step - accuracy: 0.9424 - loss: 0.1369 - val_accuracy: 0.7188 - val_loss: 1.1401\n",
      "Epoch 3/12\n",
      "\u001b[1m4/4\u001b[0m \u001b[32m━━━━━━━━━━━━━━━━━━━━\u001b[0m\u001b[37m\u001b[0m \u001b[1m0s\u001b[0m 123ms/step - accuracy: 0.9351 - loss: 0.1580 - val_accuracy: 0.7500 - val_loss: 1.1651\n",
      "Epoch 4/12\n",
      "\u001b[1m4/4\u001b[0m \u001b[32m━━━━━━━━━━━━━━━━━━━━\u001b[0m\u001b[37m\u001b[0m \u001b[1m1s\u001b[0m 126ms/step - accuracy: 0.9435 - loss: 0.1372 - val_accuracy: 0.7344 - val_loss: 1.1574\n",
      "Epoch 5/12\n",
      "\u001b[1m4/4\u001b[0m \u001b[32m━━━━━━━━━━━━━━━━━━━━\u001b[0m\u001b[37m\u001b[0m \u001b[1m1s\u001b[0m 126ms/step - accuracy: 0.9440 - loss: 0.1146 - val_accuracy: 0.7344 - val_loss: 1.1572\n",
      "Epoch 6/12\n",
      "\u001b[1m4/4\u001b[0m \u001b[32m━━━━━━━━━━━━━━━━━━━━\u001b[0m\u001b[37m\u001b[0m \u001b[1m1s\u001b[0m 129ms/step - accuracy: 0.9366 - loss: 0.1345 - val_accuracy: 0.7344 - val_loss: 1.1660\n",
      "Epoch 7/12\n",
      "\u001b[1m4/4\u001b[0m \u001b[32m━━━━━━━━━━━━━━━━━━━━\u001b[0m\u001b[37m\u001b[0m \u001b[1m0s\u001b[0m 123ms/step - accuracy: 0.9393 - loss: 0.1413 - val_accuracy: 0.7500 - val_loss: 1.1660\n",
      "Epoch 8/12\n",
      "\u001b[1m4/4\u001b[0m \u001b[32m━━━━━━━━━━━━━━━━━━━━\u001b[0m\u001b[37m\u001b[0m \u001b[1m1s\u001b[0m 130ms/step - accuracy: 0.9445 - loss: 0.1270 - val_accuracy: 0.7188 - val_loss: 1.1998\n",
      "Epoch 9/12\n",
      "\u001b[1m4/4\u001b[0m \u001b[32m━━━━━━━━━━━━━━━━━━━━\u001b[0m\u001b[37m\u001b[0m \u001b[1m0s\u001b[0m 119ms/step - accuracy: 0.9409 - loss: 0.1333 - val_accuracy: 0.7344 - val_loss: 1.2406\n",
      "Epoch 10/12\n",
      "\u001b[1m4/4\u001b[0m \u001b[32m━━━━━━━━━━━━━━━━━━━━\u001b[0m\u001b[37m\u001b[0m \u001b[1m1s\u001b[0m 124ms/step - accuracy: 0.9461 - loss: 0.1206 - val_accuracy: 0.7344 - val_loss: 1.2489\n",
      "Epoch 11/12\n",
      "\u001b[1m4/4\u001b[0m \u001b[32m━━━━━━━━━━━━━━━━━━━━\u001b[0m\u001b[37m\u001b[0m \u001b[1m1s\u001b[0m 137ms/step - accuracy: 0.9430 - loss: 0.1393 - val_accuracy: 0.7344 - val_loss: 1.2206\n",
      "Epoch 12/12\n",
      "\u001b[1m4/4\u001b[0m \u001b[32m━━━━━━━━━━━━━━━━━━━━\u001b[0m\u001b[37m\u001b[0m \u001b[1m1s\u001b[0m 178ms/step - accuracy: 0.9367 - loss: 0.1364 - val_accuracy: 0.7500 - val_loss: 1.2302\n",
      "\u001b[1m2/2\u001b[0m \u001b[32m━━━━━━━━━━━━━━━━━━━━\u001b[0m\u001b[37m\u001b[0m \u001b[1m0s\u001b[0m 159ms/step - accuracy: 0.7500 - loss: 1.2488\n",
      "✅ Test Accuracy: 0.7500\n"
     ]
    }
   ],
   "source": [
    "history = model.fit(X_train, y_train_cat, epochs=12, batch_size=64, validation_data=(X_test, y_test_cat))\n",
    "\n",
    "# Evaluate\n",
    "loss, acc = model.evaluate(X_test, y_test_cat)\n",
    "print(f\"✅ Test Accuracy: {acc:.4f}\")"
   ]
  },
  {
   "cell_type": "code",
   "execution_count": 152,
   "id": "ce692b07",
   "metadata": {},
   "outputs": [
    {
     "name": "stdout",
     "output_type": "stream",
     "text": [
      "Test Accuracy: 0.7500\n"
     ]
    }
   ],
   "source": [
    "\n",
    "print(f\"Test Accuracy: {acc:.4f}\")\n"
   ]
  },
  {
   "cell_type": "code",
   "execution_count": 153,
   "id": "f443ee32",
   "metadata": {},
   "outputs": [
    {
     "data": {
      "text/plain": [
       "9539"
      ]
     },
     "execution_count": 153,
     "metadata": {},
     "output_type": "execute_result"
    }
   ],
   "source": [
    "gc.collect()"
   ]
  },
  {
   "cell_type": "code",
   "execution_count": null,
   "id": "1df63a14",
   "metadata": {},
   "outputs": [
    {
     "name": "stderr",
     "output_type": "stream",
     "text": [
      "WARNING:absl:You are saving your model as an HDF5 file via `model.save()` or `keras.saving.save_model(model)`. This file format is considered legacy. We recommend using instead the native Keras format, e.g. `model.save('my_model.keras')` or `keras.saving.save_model(model, 'my_model.keras')`. \n"
     ]
    }
   ],
   "source": [
    "# model.save(\"driver_behavior_lstm_model.h5\")\n"
   ]
  }
 ],
 "metadata": {
  "kernelspec": {
   "display_name": "venv",
   "language": "python",
   "name": "python3"
  },
  "language_info": {
   "codemirror_mode": {
    "name": "ipython",
    "version": 3
   },
   "file_extension": ".py",
   "mimetype": "text/x-python",
   "name": "python",
   "nbconvert_exporter": "python",
   "pygments_lexer": "ipython3",
   "version": "3.11.9"
  }
 },
 "nbformat": 4,
 "nbformat_minor": 5
}
